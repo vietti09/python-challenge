{
 "cells": [
  {
   "cell_type": "code",
   "execution_count": 1,
   "metadata": {},
   "outputs": [],
   "source": [
    "import pandas as pd\n",
    "import json"
   ]
  },
  {
   "cell_type": "code",
   "execution_count": 2,
   "metadata": {},
   "outputs": [],
   "source": [
    "# Read with Pandas\n",
    "purchase_df = pd.read_json('purchase_data.json')"
   ]
  },
  {
   "cell_type": "code",
   "execution_count": 3,
   "metadata": {},
   "outputs": [
    {
     "data": {
      "text/html": [
       "<div>\n",
       "<style scoped>\n",
       "    .dataframe tbody tr th:only-of-type {\n",
       "        vertical-align: middle;\n",
       "    }\n",
       "\n",
       "    .dataframe tbody tr th {\n",
       "        vertical-align: top;\n",
       "    }\n",
       "\n",
       "    .dataframe thead th {\n",
       "        text-align: right;\n",
       "    }\n",
       "</style>\n",
       "<table border=\"1\" class=\"dataframe\">\n",
       "  <thead>\n",
       "    <tr style=\"text-align: right;\">\n",
       "      <th></th>\n",
       "      <th>Age</th>\n",
       "      <th>Gender</th>\n",
       "      <th>Item ID</th>\n",
       "      <th>Item Name</th>\n",
       "      <th>Price</th>\n",
       "      <th>SN</th>\n",
       "    </tr>\n",
       "  </thead>\n",
       "  <tbody>\n",
       "    <tr>\n",
       "      <th>0</th>\n",
       "      <td>38</td>\n",
       "      <td>Male</td>\n",
       "      <td>165</td>\n",
       "      <td>Bone Crushing Silver Skewer</td>\n",
       "      <td>3.37</td>\n",
       "      <td>Aelalis34</td>\n",
       "    </tr>\n",
       "    <tr>\n",
       "      <th>1</th>\n",
       "      <td>21</td>\n",
       "      <td>Male</td>\n",
       "      <td>119</td>\n",
       "      <td>Stormbringer, Dark Blade of Ending Misery</td>\n",
       "      <td>2.32</td>\n",
       "      <td>Eolo46</td>\n",
       "    </tr>\n",
       "  </tbody>\n",
       "</table>\n",
       "</div>"
      ],
      "text/plain": [
       "   Age Gender  Item ID                                  Item Name  Price  \\\n",
       "0   38   Male      165                Bone Crushing Silver Skewer   3.37   \n",
       "1   21   Male      119  Stormbringer, Dark Blade of Ending Misery   2.32   \n",
       "\n",
       "          SN  \n",
       "0  Aelalis34  \n",
       "1     Eolo46  "
      ]
     },
     "execution_count": 3,
     "metadata": {},
     "output_type": "execute_result"
    }
   ],
   "source": [
    "#Show database to look at data\n",
    "purchase_df.head(2)"
   ]
  },
  {
   "cell_type": "code",
   "execution_count": 4,
   "metadata": {},
   "outputs": [
    {
     "data": {
      "text/html": [
       "<div>\n",
       "<style scoped>\n",
       "    .dataframe tbody tr th:only-of-type {\n",
       "        vertical-align: middle;\n",
       "    }\n",
       "\n",
       "    .dataframe tbody tr th {\n",
       "        vertical-align: top;\n",
       "    }\n",
       "\n",
       "    .dataframe thead th {\n",
       "        text-align: right;\n",
       "    }\n",
       "</style>\n",
       "<table border=\"1\" class=\"dataframe\">\n",
       "  <thead>\n",
       "    <tr style=\"text-align: right;\">\n",
       "      <th></th>\n",
       "      <th>Total Players</th>\n",
       "    </tr>\n",
       "  </thead>\n",
       "  <tbody>\n",
       "    <tr>\n",
       "      <th>0</th>\n",
       "      <td>573</td>\n",
       "    </tr>\n",
       "  </tbody>\n",
       "</table>\n",
       "</div>"
      ],
      "text/plain": [
       "   Total Players\n",
       "0            573"
      ]
     },
     "execution_count": 4,
     "metadata": {},
     "output_type": "execute_result"
    }
   ],
   "source": [
    "#Calculate total number of players\n",
    "total_players = {\"Total Players\": purchase_df['SN'].nunique()}\n",
    "total_players_df = pd.DataFrame([total_players])\n",
    "total_players_df"
   ]
  },
  {
   "cell_type": "code",
   "execution_count": 5,
   "metadata": {},
   "outputs": [
    {
     "data": {
      "text/html": [
       "<div>\n",
       "<style scoped>\n",
       "    .dataframe tbody tr th:only-of-type {\n",
       "        vertical-align: middle;\n",
       "    }\n",
       "\n",
       "    .dataframe tbody tr th {\n",
       "        vertical-align: top;\n",
       "    }\n",
       "\n",
       "    .dataframe thead th {\n",
       "        text-align: right;\n",
       "    }\n",
       "</style>\n",
       "<table border=\"1\" class=\"dataframe\">\n",
       "  <thead>\n",
       "    <tr style=\"text-align: right;\">\n",
       "      <th></th>\n",
       "      <th>Unique Items</th>\n",
       "    </tr>\n",
       "  </thead>\n",
       "  <tbody>\n",
       "    <tr>\n",
       "      <th>0</th>\n",
       "      <td>179</td>\n",
       "    </tr>\n",
       "  </tbody>\n",
       "</table>\n",
       "</div>"
      ],
      "text/plain": [
       "   Unique Items\n",
       "0           179"
      ]
     },
     "execution_count": 5,
     "metadata": {},
     "output_type": "execute_result"
    }
   ],
   "source": [
    "#caluclate unique items for purchasing analysis table\n",
    "unique_items = {\"Unique Items\": purchase_df['Item Name'].nunique()}\n",
    "items_df = pd.DataFrame([unique_items])\n",
    "items_df"
   ]
  },
  {
   "cell_type": "code",
   "execution_count": 6,
   "metadata": {},
   "outputs": [
    {
     "data": {
      "text/html": [
       "<div>\n",
       "<style scoped>\n",
       "    .dataframe tbody tr th:only-of-type {\n",
       "        vertical-align: middle;\n",
       "    }\n",
       "\n",
       "    .dataframe tbody tr th {\n",
       "        vertical-align: top;\n",
       "    }\n",
       "\n",
       "    .dataframe thead th {\n",
       "        text-align: right;\n",
       "    }\n",
       "</style>\n",
       "<table border=\"1\" class=\"dataframe\">\n",
       "  <thead>\n",
       "    <tr style=\"text-align: right;\">\n",
       "      <th></th>\n",
       "      <th>Average Price</th>\n",
       "    </tr>\n",
       "  </thead>\n",
       "  <tbody>\n",
       "    <tr>\n",
       "      <th>0</th>\n",
       "      <td>$2.93</td>\n",
       "    </tr>\n",
       "  </tbody>\n",
       "</table>\n",
       "</div>"
      ],
      "text/plain": [
       "  Average Price\n",
       "0         $2.93"
      ]
     },
     "execution_count": 6,
     "metadata": {},
     "output_type": "execute_result"
    }
   ],
   "source": [
    "#calculate average price of unique items for purchasing analysis table\n",
    "avg_price = {\"Average Price\":purchase_df[\"Price\"].mean()}\n",
    "avg_price_df = pd.DataFrame([avg_price])\n",
    "avg_price_df = pd.DataFrame(avg_price_df[\"Average Price\"].map(\"${:,.2f}\".format))\n",
    "avg_price_df"
   ]
  },
  {
   "cell_type": "code",
   "execution_count": 7,
   "metadata": {},
   "outputs": [
    {
     "data": {
      "text/html": [
       "<div>\n",
       "<style scoped>\n",
       "    .dataframe tbody tr th:only-of-type {\n",
       "        vertical-align: middle;\n",
       "    }\n",
       "\n",
       "    .dataframe tbody tr th {\n",
       "        vertical-align: top;\n",
       "    }\n",
       "\n",
       "    .dataframe thead th {\n",
       "        text-align: right;\n",
       "    }\n",
       "</style>\n",
       "<table border=\"1\" class=\"dataframe\">\n",
       "  <thead>\n",
       "    <tr style=\"text-align: right;\">\n",
       "      <th></th>\n",
       "      <th>Unique Items</th>\n",
       "      <th>Average Price</th>\n",
       "    </tr>\n",
       "  </thead>\n",
       "  <tbody>\n",
       "    <tr>\n",
       "      <th>0</th>\n",
       "      <td>179</td>\n",
       "      <td>$2.93</td>\n",
       "    </tr>\n",
       "  </tbody>\n",
       "</table>\n",
       "</div>"
      ],
      "text/plain": [
       "   Unique Items Average Price\n",
       "0           179         $2.93"
      ]
     },
     "execution_count": 7,
     "metadata": {},
     "output_type": "execute_result"
    }
   ],
   "source": [
    "#Add average price to purchasing analysis table\n",
    "items_df = items_df.join(avg_price_df)\n",
    "items_df"
   ]
  },
  {
   "cell_type": "code",
   "execution_count": 8,
   "metadata": {},
   "outputs": [
    {
     "data": {
      "text/html": [
       "<div>\n",
       "<style scoped>\n",
       "    .dataframe tbody tr th:only-of-type {\n",
       "        vertical-align: middle;\n",
       "    }\n",
       "\n",
       "    .dataframe tbody tr th {\n",
       "        vertical-align: top;\n",
       "    }\n",
       "\n",
       "    .dataframe thead th {\n",
       "        text-align: right;\n",
       "    }\n",
       "</style>\n",
       "<table border=\"1\" class=\"dataframe\">\n",
       "  <thead>\n",
       "    <tr style=\"text-align: right;\">\n",
       "      <th></th>\n",
       "      <th>Number of Purchases</th>\n",
       "    </tr>\n",
       "  </thead>\n",
       "  <tbody>\n",
       "    <tr>\n",
       "      <th>0</th>\n",
       "      <td>780</td>\n",
       "    </tr>\n",
       "  </tbody>\n",
       "</table>\n",
       "</div>"
      ],
      "text/plain": [
       "   Number of Purchases\n",
       "0                  780"
      ]
     },
     "execution_count": 8,
     "metadata": {},
     "output_type": "execute_result"
    }
   ],
   "source": [
    "#Calculate number of purchases for purchasing analysis table\n",
    "number_purchases = {\"Number of Purchases\":len(purchase_df)}\n",
    "number_purchases_df = pd.DataFrame([number_purchases])\n",
    "number_purchases_df"
   ]
  },
  {
   "cell_type": "code",
   "execution_count": 9,
   "metadata": {},
   "outputs": [
    {
     "data": {
      "text/html": [
       "<div>\n",
       "<style scoped>\n",
       "    .dataframe tbody tr th:only-of-type {\n",
       "        vertical-align: middle;\n",
       "    }\n",
       "\n",
       "    .dataframe tbody tr th {\n",
       "        vertical-align: top;\n",
       "    }\n",
       "\n",
       "    .dataframe thead th {\n",
       "        text-align: right;\n",
       "    }\n",
       "</style>\n",
       "<table border=\"1\" class=\"dataframe\">\n",
       "  <thead>\n",
       "    <tr style=\"text-align: right;\">\n",
       "      <th></th>\n",
       "      <th>Unique Items</th>\n",
       "      <th>Average Price</th>\n",
       "      <th>Number of Purchases</th>\n",
       "    </tr>\n",
       "  </thead>\n",
       "  <tbody>\n",
       "    <tr>\n",
       "      <th>0</th>\n",
       "      <td>179</td>\n",
       "      <td>$2.93</td>\n",
       "      <td>780</td>\n",
       "    </tr>\n",
       "  </tbody>\n",
       "</table>\n",
       "</div>"
      ],
      "text/plain": [
       "   Unique Items Average Price  Number of Purchases\n",
       "0           179         $2.93                  780"
      ]
     },
     "execution_count": 9,
     "metadata": {},
     "output_type": "execute_result"
    }
   ],
   "source": [
    "#Add number of purchases to purchasing analysis table\n",
    "items_df = items_df.join(number_purchases_df)\n",
    "items_df"
   ]
  },
  {
   "cell_type": "code",
   "execution_count": 10,
   "metadata": {},
   "outputs": [
    {
     "data": {
      "text/html": [
       "<div>\n",
       "<style scoped>\n",
       "    .dataframe tbody tr th:only-of-type {\n",
       "        vertical-align: middle;\n",
       "    }\n",
       "\n",
       "    .dataframe tbody tr th {\n",
       "        vertical-align: top;\n",
       "    }\n",
       "\n",
       "    .dataframe thead th {\n",
       "        text-align: right;\n",
       "    }\n",
       "</style>\n",
       "<table border=\"1\" class=\"dataframe\">\n",
       "  <thead>\n",
       "    <tr style=\"text-align: right;\">\n",
       "      <th></th>\n",
       "      <th>Total Revenue</th>\n",
       "    </tr>\n",
       "  </thead>\n",
       "  <tbody>\n",
       "    <tr>\n",
       "      <th>0</th>\n",
       "      <td>$2,286.33</td>\n",
       "    </tr>\n",
       "  </tbody>\n",
       "</table>\n",
       "</div>"
      ],
      "text/plain": [
       "  Total Revenue\n",
       "0     $2,286.33"
      ]
     },
     "execution_count": 10,
     "metadata": {},
     "output_type": "execute_result"
    }
   ],
   "source": [
    "#Calculate total revenue for purchasing analysis table\n",
    "total_revenue = {\"Total Revenue\": purchase_df[\"Price\"].sum()}\n",
    "total_revenue_df = pd.DataFrame([total_revenue])\n",
    "total_revenue_df = pd.DataFrame(total_revenue_df[\"Total Revenue\"].map(\"${:,.2f}\".format))\n",
    "total_revenue_df"
   ]
  },
  {
   "cell_type": "code",
   "execution_count": 11,
   "metadata": {},
   "outputs": [
    {
     "data": {
      "text/html": [
       "<div>\n",
       "<style scoped>\n",
       "    .dataframe tbody tr th:only-of-type {\n",
       "        vertical-align: middle;\n",
       "    }\n",
       "\n",
       "    .dataframe tbody tr th {\n",
       "        vertical-align: top;\n",
       "    }\n",
       "\n",
       "    .dataframe thead th {\n",
       "        text-align: right;\n",
       "    }\n",
       "</style>\n",
       "<table border=\"1\" class=\"dataframe\">\n",
       "  <thead>\n",
       "    <tr style=\"text-align: right;\">\n",
       "      <th></th>\n",
       "      <th>Unique Items</th>\n",
       "      <th>Average Price</th>\n",
       "      <th>Number of Purchases</th>\n",
       "      <th>Total Revenue</th>\n",
       "    </tr>\n",
       "  </thead>\n",
       "  <tbody>\n",
       "    <tr>\n",
       "      <th>0</th>\n",
       "      <td>179</td>\n",
       "      <td>$2.93</td>\n",
       "      <td>780</td>\n",
       "      <td>$2,286.33</td>\n",
       "    </tr>\n",
       "  </tbody>\n",
       "</table>\n",
       "</div>"
      ],
      "text/plain": [
       "   Unique Items Average Price  Number of Purchases Total Revenue\n",
       "0           179         $2.93                  780     $2,286.33"
      ]
     },
     "execution_count": 11,
     "metadata": {},
     "output_type": "execute_result"
    }
   ],
   "source": [
    "#Add total revenue to purchasing analysis table\n",
    "items_df = items_df.join(total_revenue_df)\n",
    "items_df"
   ]
  },
  {
   "cell_type": "code",
   "execution_count": 12,
   "metadata": {},
   "outputs": [
    {
     "data": {
      "text/plain": [
       "Male                     465\n",
       "Female                   100\n",
       "Other / Non-Disclosed      8\n",
       "Name: Gender, dtype: int64"
      ]
     },
     "execution_count": 12,
     "metadata": {},
     "output_type": "execute_result"
    }
   ],
   "source": [
    "#Calculate total number of each gender by adding screen names and subtracting duplicates\n",
    "purchase_dd_df = purchase_df.drop_duplicates('SN')\n",
    "total_genders_df = purchase_dd_df['Gender']\n",
    "total_genders_df = total_genders_df.value_counts()\n",
    "total_genders_df"
   ]
  },
  {
   "cell_type": "code",
   "execution_count": 13,
   "metadata": {},
   "outputs": [
    {
     "data": {
      "text/plain": [
       "573"
      ]
     },
     "execution_count": 13,
     "metadata": {},
     "output_type": "execute_result"
    }
   ],
   "source": [
    "#Calculate total number of players from total of each gender\n",
    "total_gender_count = total_genders_df.sum()\n",
    "total_gender_count"
   ]
  },
  {
   "cell_type": "code",
   "execution_count": 14,
   "metadata": {},
   "outputs": [
    {
     "data": {
      "text/plain": [
       "Male                     81.151832\n",
       "Female                   17.452007\n",
       "Other / Non-Disclosed     1.396161\n",
       "Name: Gender, dtype: float64"
      ]
     },
     "execution_count": 14,
     "metadata": {},
     "output_type": "execute_result"
    }
   ],
   "source": [
    "#Calculate percent of each gender\n",
    "percent_gender_df = total_genders_df/total_gender_count*100\n",
    "percent_gender_df"
   ]
  },
  {
   "cell_type": "code",
   "execution_count": 15,
   "metadata": {},
   "outputs": [
    {
     "data": {
      "text/html": [
       "<div>\n",
       "<style scoped>\n",
       "    .dataframe tbody tr th:only-of-type {\n",
       "        vertical-align: middle;\n",
       "    }\n",
       "\n",
       "    .dataframe tbody tr th {\n",
       "        vertical-align: top;\n",
       "    }\n",
       "\n",
       "    .dataframe thead th {\n",
       "        text-align: right;\n",
       "    }\n",
       "</style>\n",
       "<table border=\"1\" class=\"dataframe\">\n",
       "  <thead>\n",
       "    <tr style=\"text-align: right;\">\n",
       "      <th></th>\n",
       "      <th>Percentage of Players</th>\n",
       "      <th>Total Count</th>\n",
       "    </tr>\n",
       "  </thead>\n",
       "  <tbody>\n",
       "    <tr>\n",
       "      <th>Male</th>\n",
       "      <td>81.2%</td>\n",
       "      <td>465</td>\n",
       "    </tr>\n",
       "    <tr>\n",
       "      <th>Female</th>\n",
       "      <td>17.5%</td>\n",
       "      <td>100</td>\n",
       "    </tr>\n",
       "    <tr>\n",
       "      <th>Other / Non-Disclosed</th>\n",
       "      <td>1.4%</td>\n",
       "      <td>8</td>\n",
       "    </tr>\n",
       "  </tbody>\n",
       "</table>\n",
       "</div>"
      ],
      "text/plain": [
       "                      Percentage of Players  Total Count\n",
       "Male                                  81.2%          465\n",
       "Female                                17.5%          100\n",
       "Other / Non-Disclosed                  1.4%            8"
      ]
     },
     "execution_count": 15,
     "metadata": {},
     "output_type": "execute_result"
    }
   ],
   "source": [
    "#Build gender demographics table\n",
    "genders_df = pd.concat([percent_gender_df.rename(\"Percentage of Players\").map(\"{:,.1f}%\".format), total_genders_df.rename(\"Total Count\")], axis=1)\n",
    "genders_df"
   ]
  },
  {
   "cell_type": "code",
   "execution_count": 16,
   "metadata": {},
   "outputs": [
    {
     "data": {
      "text/plain": [
       "Male                     633\n",
       "Female                   136\n",
       "Other / Non-Disclosed     11\n",
       "Name: Gender, dtype: int64"
      ]
     },
     "execution_count": 16,
     "metadata": {},
     "output_type": "execute_result"
    }
   ],
   "source": [
    "#Begin purchase analysis by gender calculations; first is total genders by purchase\n",
    "purchase_analysis_gender = purchase_df['Gender'].value_counts()\n",
    "purchase_analysis_gender"
   ]
  },
  {
   "cell_type": "code",
   "execution_count": 17,
   "metadata": {},
   "outputs": [
    {
     "data": {
      "text/html": [
       "<div>\n",
       "<style scoped>\n",
       "    .dataframe tbody tr th:only-of-type {\n",
       "        vertical-align: middle;\n",
       "    }\n",
       "\n",
       "    .dataframe tbody tr th {\n",
       "        vertical-align: top;\n",
       "    }\n",
       "\n",
       "    .dataframe thead th {\n",
       "        text-align: right;\n",
       "    }\n",
       "</style>\n",
       "<table border=\"1\" class=\"dataframe\">\n",
       "  <thead>\n",
       "    <tr style=\"text-align: right;\">\n",
       "      <th></th>\n",
       "      <th>Total Purchases</th>\n",
       "    </tr>\n",
       "    <tr>\n",
       "      <th>Gender</th>\n",
       "      <th></th>\n",
       "    </tr>\n",
       "  </thead>\n",
       "  <tbody>\n",
       "    <tr>\n",
       "      <th>Male</th>\n",
       "      <td>633</td>\n",
       "    </tr>\n",
       "    <tr>\n",
       "      <th>Female</th>\n",
       "      <td>136</td>\n",
       "    </tr>\n",
       "    <tr>\n",
       "      <th>Other / Non-Disclosed</th>\n",
       "      <td>11</td>\n",
       "    </tr>\n",
       "  </tbody>\n",
       "</table>\n",
       "</div>"
      ],
      "text/plain": [
       "                       Total Purchases\n",
       "Gender                                \n",
       "Male                               633\n",
       "Female                             136\n",
       "Other / Non-Disclosed               11"
      ]
     },
     "execution_count": 17,
     "metadata": {},
     "output_type": "execute_result"
    }
   ],
   "source": [
    "#Create a dataframe from our genders by purchase\n",
    "purchase_count_df = pd.DataFrame(purchase_analysis_gender)\n",
    "purchase_count_df.index.name = 'Gender'\n",
    "purchase_count_df = purchase_count_df.rename(columns={'Gender':'Total Purchases'})\n",
    "purchase_count_df"
   ]
  },
  {
   "cell_type": "code",
   "execution_count": 18,
   "metadata": {},
   "outputs": [
    {
     "data": {
      "text/plain": [
       "Gender\n",
       "Female                   2.815515\n",
       "Male                     2.950521\n",
       "Other / Non-Disclosed    3.249091\n",
       "Name: Price, dtype: float64"
      ]
     },
     "execution_count": 18,
     "metadata": {},
     "output_type": "execute_result"
    }
   ],
   "source": [
    "#Calculate average purchase price by gender\n",
    "avg_purchase_price = purchase_df.groupby('Gender')\n",
    "avg_purchase_price = avg_purchase_price['Price'].mean()\n",
    "avg_purchase_price"
   ]
  },
  {
   "cell_type": "code",
   "execution_count": 19,
   "metadata": {},
   "outputs": [
    {
     "data": {
      "text/plain": [
       "Gender\n",
       "Female                   $2.82\n",
       "Male                     $2.95\n",
       "Other / Non-Disclosed    $3.25\n",
       "Name: Avg Price, dtype: object"
      ]
     },
     "execution_count": 19,
     "metadata": {},
     "output_type": "execute_result"
    }
   ],
   "source": [
    "#Turn average purchase price into a dataframe and format correctly\n",
    "avg_purchase_price_df = pd.DataFrame(avg_purchase_price)\n",
    "avg_purchase_price_df.index.name = 'Gender'\n",
    "avg_purchase_price_df = avg_purchase_price_df.rename(columns={'Price':'Avg Price'})\n",
    "avg_purchase_price_df = avg_purchase_price_df['Avg Price'].map(\"${:,.2f}\".format)\n",
    "avg_purchase_price_df"
   ]
  },
  {
   "cell_type": "code",
   "execution_count": 20,
   "metadata": {},
   "outputs": [
    {
     "data": {
      "text/html": [
       "<div>\n",
       "<style scoped>\n",
       "    .dataframe tbody tr th:only-of-type {\n",
       "        vertical-align: middle;\n",
       "    }\n",
       "\n",
       "    .dataframe tbody tr th {\n",
       "        vertical-align: top;\n",
       "    }\n",
       "\n",
       "    .dataframe thead th {\n",
       "        text-align: right;\n",
       "    }\n",
       "</style>\n",
       "<table border=\"1\" class=\"dataframe\">\n",
       "  <thead>\n",
       "    <tr style=\"text-align: right;\">\n",
       "      <th></th>\n",
       "      <th>Total Purchases</th>\n",
       "      <th>Avg Price</th>\n",
       "    </tr>\n",
       "    <tr>\n",
       "      <th>Gender</th>\n",
       "      <th></th>\n",
       "      <th></th>\n",
       "    </tr>\n",
       "  </thead>\n",
       "  <tbody>\n",
       "    <tr>\n",
       "      <th>Male</th>\n",
       "      <td>633</td>\n",
       "      <td>$2.95</td>\n",
       "    </tr>\n",
       "    <tr>\n",
       "      <th>Female</th>\n",
       "      <td>136</td>\n",
       "      <td>$2.82</td>\n",
       "    </tr>\n",
       "    <tr>\n",
       "      <th>Other / Non-Disclosed</th>\n",
       "      <td>11</td>\n",
       "      <td>$3.25</td>\n",
       "    </tr>\n",
       "  </tbody>\n",
       "</table>\n",
       "</div>"
      ],
      "text/plain": [
       "                       Total Purchases Avg Price\n",
       "Gender                                          \n",
       "Male                               633     $2.95\n",
       "Female                             136     $2.82\n",
       "Other / Non-Disclosed               11     $3.25"
      ]
     },
     "execution_count": 20,
     "metadata": {},
     "output_type": "execute_result"
    }
   ],
   "source": [
    "#Continue building purchase analysis table (by gender)\n",
    "purchases_df = purchase_count_df.join(avg_purchase_price_df)\n",
    "purchases_df"
   ]
  },
  {
   "cell_type": "code",
   "execution_count": 21,
   "metadata": {},
   "outputs": [
    {
     "data": {
      "text/plain": [
       "Gender\n",
       "Female                     $382.91\n",
       "Male                     $1,867.68\n",
       "Other / Non-Disclosed       $35.74\n",
       "Name: Price, dtype: object"
      ]
     },
     "execution_count": 21,
     "metadata": {},
     "output_type": "execute_result"
    }
   ],
   "source": [
    "#Calculate total purchase value per gender\n",
    "purchase_value = purchase_df.groupby('Gender')\n",
    "purchase_value_df = purchase_value['Price'].sum().map(\"${:,.2f}\".format)\n",
    "purchase_value_df"
   ]
  },
  {
   "cell_type": "code",
   "execution_count": 22,
   "metadata": {},
   "outputs": [
    {
     "data": {
      "text/html": [
       "<div>\n",
       "<style scoped>\n",
       "    .dataframe tbody tr th:only-of-type {\n",
       "        vertical-align: middle;\n",
       "    }\n",
       "\n",
       "    .dataframe tbody tr th {\n",
       "        vertical-align: top;\n",
       "    }\n",
       "\n",
       "    .dataframe thead th {\n",
       "        text-align: right;\n",
       "    }\n",
       "</style>\n",
       "<table border=\"1\" class=\"dataframe\">\n",
       "  <thead>\n",
       "    <tr style=\"text-align: right;\">\n",
       "      <th></th>\n",
       "      <th>Value</th>\n",
       "    </tr>\n",
       "    <tr>\n",
       "      <th>Gender</th>\n",
       "      <th></th>\n",
       "    </tr>\n",
       "  </thead>\n",
       "  <tbody>\n",
       "    <tr>\n",
       "      <th>Female</th>\n",
       "      <td>$382.91</td>\n",
       "    </tr>\n",
       "    <tr>\n",
       "      <th>Male</th>\n",
       "      <td>$1,867.68</td>\n",
       "    </tr>\n",
       "    <tr>\n",
       "      <th>Other / Non-Disclosed</th>\n",
       "      <td>$35.74</td>\n",
       "    </tr>\n",
       "  </tbody>\n",
       "</table>\n",
       "</div>"
      ],
      "text/plain": [
       "                           Value\n",
       "Gender                          \n",
       "Female                   $382.91\n",
       "Male                   $1,867.68\n",
       "Other / Non-Disclosed     $35.74"
      ]
     },
     "execution_count": 22,
     "metadata": {},
     "output_type": "execute_result"
    }
   ],
   "source": [
    "#Create a dataframe from purchase value per gender\n",
    "purchase_value_df = pd.DataFrame(purchase_value_df)\n",
    "purchase_value_df.index.name = 'Gender'\n",
    "purchase_value_df = purchase_value_df.rename(columns={'Price':'Value'})\n",
    "purchase_value_df"
   ]
  },
  {
   "cell_type": "code",
   "execution_count": 23,
   "metadata": {},
   "outputs": [
    {
     "data": {
      "text/html": [
       "<div>\n",
       "<style scoped>\n",
       "    .dataframe tbody tr th:only-of-type {\n",
       "        vertical-align: middle;\n",
       "    }\n",
       "\n",
       "    .dataframe tbody tr th {\n",
       "        vertical-align: top;\n",
       "    }\n",
       "\n",
       "    .dataframe thead th {\n",
       "        text-align: right;\n",
       "    }\n",
       "</style>\n",
       "<table border=\"1\" class=\"dataframe\">\n",
       "  <thead>\n",
       "    <tr style=\"text-align: right;\">\n",
       "      <th></th>\n",
       "      <th>Total Purchases</th>\n",
       "      <th>Avg Price</th>\n",
       "      <th>Total Value</th>\n",
       "    </tr>\n",
       "    <tr>\n",
       "      <th>Gender</th>\n",
       "      <th></th>\n",
       "      <th></th>\n",
       "      <th></th>\n",
       "    </tr>\n",
       "  </thead>\n",
       "  <tbody>\n",
       "    <tr>\n",
       "      <th>Male</th>\n",
       "      <td>633</td>\n",
       "      <td>$2.95</td>\n",
       "      <td>$1,867.68</td>\n",
       "    </tr>\n",
       "    <tr>\n",
       "      <th>Female</th>\n",
       "      <td>136</td>\n",
       "      <td>$2.82</td>\n",
       "      <td>$382.91</td>\n",
       "    </tr>\n",
       "    <tr>\n",
       "      <th>Other / Non-Disclosed</th>\n",
       "      <td>11</td>\n",
       "      <td>$3.25</td>\n",
       "      <td>$35.74</td>\n",
       "    </tr>\n",
       "  </tbody>\n",
       "</table>\n",
       "</div>"
      ],
      "text/plain": [
       "                       Total Purchases Avg Price Total Value\n",
       "Gender                                                      \n",
       "Male                               633     $2.95   $1,867.68\n",
       "Female                             136     $2.82     $382.91\n",
       "Other / Non-Disclosed               11     $3.25      $35.74"
      ]
     },
     "execution_count": 23,
     "metadata": {},
     "output_type": "execute_result"
    }
   ],
   "source": [
    "#Add total value to dataframe of purchase analysis per gender\n",
    "purchases_df[\"Total Value\"] = purchase_value_df\n",
    "purchases_df"
   ]
  },
  {
   "cell_type": "code",
   "execution_count": 24,
   "metadata": {},
   "outputs": [
    {
     "data": {
      "text/plain": [
       "Gender\n",
       "Male                     1867.68\n",
       "Female                    382.91\n",
       "Other / Non-Disclosed      35.74\n",
       "Name: Total Value, dtype: object"
      ]
     },
     "execution_count": 24,
     "metadata": {},
     "output_type": "execute_result"
    }
   ],
   "source": [
    "#Make some changes so I can do math\n",
    "total_val = purchases_df['Total Value'].replace({'\\$': '', ',': ''}, regex=True)\n",
    "total_val"
   ]
  },
  {
   "cell_type": "code",
   "execution_count": 25,
   "metadata": {
    "scrolled": true
   },
   "outputs": [
    {
     "data": {
      "text/plain": [
       "Gender\n",
       "Male                     1867.68\n",
       "Female                    382.91\n",
       "Other / Non-Disclosed      35.74\n",
       "Name: Total Value, dtype: float64"
      ]
     },
     "execution_count": 25,
     "metadata": {},
     "output_type": "execute_result"
    }
   ],
   "source": [
    "#Make one more change for math in next step\n",
    "total_val = total_val.astype(float)\n",
    "total_val"
   ]
  },
  {
   "cell_type": "code",
   "execution_count": 26,
   "metadata": {},
   "outputs": [
    {
     "data": {
      "text/plain": [
       "Gender\n",
       "Male                     $4.02\n",
       "Female                   $3.83\n",
       "Other / Non-Disclosed    $4.47\n",
       "dtype: object"
      ]
     },
     "execution_count": 26,
     "metadata": {},
     "output_type": "execute_result"
    }
   ],
   "source": [
    "#Calculate normalized totals of purchases per gender\n",
    "norm_totals = total_val / total_genders_df\n",
    "norm_totals = norm_totals.map(\"${:,.2f}\".format)\n",
    "norm_totals"
   ]
  },
  {
   "cell_type": "code",
   "execution_count": 27,
   "metadata": {
    "scrolled": true
   },
   "outputs": [
    {
     "data": {
      "text/html": [
       "<div>\n",
       "<style scoped>\n",
       "    .dataframe tbody tr th:only-of-type {\n",
       "        vertical-align: middle;\n",
       "    }\n",
       "\n",
       "    .dataframe tbody tr th {\n",
       "        vertical-align: top;\n",
       "    }\n",
       "\n",
       "    .dataframe thead th {\n",
       "        text-align: right;\n",
       "    }\n",
       "</style>\n",
       "<table border=\"1\" class=\"dataframe\">\n",
       "  <thead>\n",
       "    <tr style=\"text-align: right;\">\n",
       "      <th></th>\n",
       "      <th>Total Purchases</th>\n",
       "      <th>Avg Price</th>\n",
       "      <th>Total Value</th>\n",
       "      <th>Normalized Totals</th>\n",
       "    </tr>\n",
       "    <tr>\n",
       "      <th>Gender</th>\n",
       "      <th></th>\n",
       "      <th></th>\n",
       "      <th></th>\n",
       "      <th></th>\n",
       "    </tr>\n",
       "  </thead>\n",
       "  <tbody>\n",
       "    <tr>\n",
       "      <th>Male</th>\n",
       "      <td>633</td>\n",
       "      <td>$2.95</td>\n",
       "      <td>$1,867.68</td>\n",
       "      <td>$4.02</td>\n",
       "    </tr>\n",
       "    <tr>\n",
       "      <th>Female</th>\n",
       "      <td>136</td>\n",
       "      <td>$2.82</td>\n",
       "      <td>$382.91</td>\n",
       "      <td>$3.83</td>\n",
       "    </tr>\n",
       "    <tr>\n",
       "      <th>Other / Non-Disclosed</th>\n",
       "      <td>11</td>\n",
       "      <td>$3.25</td>\n",
       "      <td>$35.74</td>\n",
       "      <td>$4.47</td>\n",
       "    </tr>\n",
       "  </tbody>\n",
       "</table>\n",
       "</div>"
      ],
      "text/plain": [
       "                       Total Purchases Avg Price Total Value Normalized Totals\n",
       "Gender                                                                        \n",
       "Male                               633     $2.95   $1,867.68             $4.02\n",
       "Female                             136     $2.82     $382.91             $3.83\n",
       "Other / Non-Disclosed               11     $3.25      $35.74             $4.47"
      ]
     },
     "execution_count": 27,
     "metadata": {},
     "output_type": "execute_result"
    }
   ],
   "source": [
    "#Add normalized totals to get complete table for purchase analysis by genders\n",
    "purchases_df[\"Normalized Totals\"] = norm_totals\n",
    "purchases_df"
   ]
  },
  {
   "cell_type": "code",
   "execution_count": 28,
   "metadata": {},
   "outputs": [],
   "source": [
    "#Create the bins of ages and labels for Age Demographics table\n",
    "bins = [0, 10, 15, 20, 25,30,35,40,45,100]\n",
    "label_names = ['<10', '10-14', '15-19', '20-24', '25-29', '30-34', '35-39', '40-44', '45+']"
   ]
  },
  {
   "cell_type": "code",
   "execution_count": 29,
   "metadata": {
    "scrolled": true
   },
   "outputs": [
    {
     "data": {
      "text/html": [
       "<div>\n",
       "<style scoped>\n",
       "    .dataframe tbody tr th:only-of-type {\n",
       "        vertical-align: middle;\n",
       "    }\n",
       "\n",
       "    .dataframe tbody tr th {\n",
       "        vertical-align: top;\n",
       "    }\n",
       "\n",
       "    .dataframe thead th {\n",
       "        text-align: right;\n",
       "    }\n",
       "</style>\n",
       "<table border=\"1\" class=\"dataframe\">\n",
       "  <thead>\n",
       "    <tr style=\"text-align: right;\">\n",
       "      <th></th>\n",
       "      <th>Age</th>\n",
       "      <th>Gender</th>\n",
       "      <th>Item ID</th>\n",
       "      <th>Item Name</th>\n",
       "      <th>Price</th>\n",
       "      <th>SN</th>\n",
       "      <th>Age Group</th>\n",
       "    </tr>\n",
       "  </thead>\n",
       "  <tbody>\n",
       "    <tr>\n",
       "      <th>0</th>\n",
       "      <td>38</td>\n",
       "      <td>Male</td>\n",
       "      <td>165</td>\n",
       "      <td>Bone Crushing Silver Skewer</td>\n",
       "      <td>3.37</td>\n",
       "      <td>Aelalis34</td>\n",
       "      <td>35-39</td>\n",
       "    </tr>\n",
       "    <tr>\n",
       "      <th>1</th>\n",
       "      <td>21</td>\n",
       "      <td>Male</td>\n",
       "      <td>119</td>\n",
       "      <td>Stormbringer, Dark Blade of Ending Misery</td>\n",
       "      <td>2.32</td>\n",
       "      <td>Eolo46</td>\n",
       "      <td>20-24</td>\n",
       "    </tr>\n",
       "    <tr>\n",
       "      <th>2</th>\n",
       "      <td>34</td>\n",
       "      <td>Male</td>\n",
       "      <td>174</td>\n",
       "      <td>Primitive Blade</td>\n",
       "      <td>2.46</td>\n",
       "      <td>Assastnya25</td>\n",
       "      <td>30-34</td>\n",
       "    </tr>\n",
       "    <tr>\n",
       "      <th>3</th>\n",
       "      <td>21</td>\n",
       "      <td>Male</td>\n",
       "      <td>92</td>\n",
       "      <td>Final Critic</td>\n",
       "      <td>1.36</td>\n",
       "      <td>Pheusrical25</td>\n",
       "      <td>20-24</td>\n",
       "    </tr>\n",
       "    <tr>\n",
       "      <th>4</th>\n",
       "      <td>23</td>\n",
       "      <td>Male</td>\n",
       "      <td>63</td>\n",
       "      <td>Stormfury Mace</td>\n",
       "      <td>1.27</td>\n",
       "      <td>Aela59</td>\n",
       "      <td>20-24</td>\n",
       "    </tr>\n",
       "  </tbody>\n",
       "</table>\n",
       "</div>"
      ],
      "text/plain": [
       "   Age Gender  Item ID                                  Item Name  Price  \\\n",
       "0   38   Male      165                Bone Crushing Silver Skewer   3.37   \n",
       "1   21   Male      119  Stormbringer, Dark Blade of Ending Misery   2.32   \n",
       "2   34   Male      174                            Primitive Blade   2.46   \n",
       "3   21   Male       92                               Final Critic   1.36   \n",
       "4   23   Male       63                             Stormfury Mace   1.27   \n",
       "\n",
       "             SN Age Group  \n",
       "0     Aelalis34     35-39  \n",
       "1        Eolo46     20-24  \n",
       "2   Assastnya25     30-34  \n",
       "3  Pheusrical25     20-24  \n",
       "4        Aela59     20-24  "
      ]
     },
     "execution_count": 29,
     "metadata": {},
     "output_type": "execute_result"
    }
   ],
   "source": [
    "#Start by creating a new column with bins titled \"Age Group\"\n",
    "age_bins_df = purchase_df\n",
    "age_bins_df[\"Age Group\"] = pd.cut(\n",
    "    purchase_df[\"Age\"], bins, labels=label_names)\n",
    "age_bins_df.head()"
   ]
  },
  {
   "cell_type": "code",
   "execution_count": 30,
   "metadata": {
    "scrolled": true
   },
   "outputs": [
    {
     "data": {
      "text/plain": [
       "Age Group\n",
       "<10       32\n",
       "10-14     78\n",
       "15-19    184\n",
       "20-24    305\n",
       "25-29     76\n",
       "30-34     58\n",
       "35-39     44\n",
       "40-44      3\n",
       "45+        0\n",
       "Name: Price, dtype: int64"
      ]
     },
     "execution_count": 30,
     "metadata": {},
     "output_type": "execute_result"
    }
   ],
   "source": [
    "#Caluclate number of purchases by age group\n",
    "count_purchases_age = age_bins_df.groupby('Age Group')\n",
    "count_purchases_age = count_purchases_age.count()['Price']\n",
    "count_purchases_age"
   ]
  },
  {
   "cell_type": "code",
   "execution_count": 31,
   "metadata": {},
   "outputs": [
    {
     "data": {
      "text/plain": [
       "Age Group\n",
       "<10      $3.02\n",
       "10-14    $2.87\n",
       "15-19    $2.87\n",
       "20-24    $2.96\n",
       "25-29    $2.89\n",
       "30-34    $3.07\n",
       "35-39    $2.90\n",
       "40-44    $2.88\n",
       "45+      $0.00\n",
       "Name: Price, dtype: object"
      ]
     },
     "execution_count": 31,
     "metadata": {},
     "output_type": "execute_result"
    }
   ],
   "source": [
    "#Calculate average of purchases by age group\n",
    "avg_purchases_age = age_bins_df.groupby('Age Group')\n",
    "avg_purchases_age = avg_purchases_age.mean()['Price'].map(\"${:,.2f}\".format)\n",
    "avg_purchases_age = avg_purchases_age.replace('$nan', '$0.00')\n",
    "avg_purchases_age"
   ]
  },
  {
   "cell_type": "code",
   "execution_count": 32,
   "metadata": {
    "scrolled": true
   },
   "outputs": [
    {
     "data": {
      "text/plain": [
       "Age Group\n",
       "<10       $96.62\n",
       "10-14    $224.15\n",
       "15-19    $528.74\n",
       "20-24    $902.61\n",
       "25-29    $219.82\n",
       "30-34    $178.26\n",
       "35-39    $127.49\n",
       "40-44      $8.64\n",
       "45+        $0.00\n",
       "Name: Price, dtype: object"
      ]
     },
     "execution_count": 32,
     "metadata": {},
     "output_type": "execute_result"
    }
   ],
   "source": [
    "#Calculate total value of purchases by age group\n",
    "total_purchases_age = age_bins_df.groupby('Age Group')\n",
    "total_purchases_age = total_purchases_age.sum()['Price'].map(\"${:,.2f}\".format)\n",
    "total_purchases_age"
   ]
  },
  {
   "cell_type": "code",
   "execution_count": 33,
   "metadata": {},
   "outputs": [
    {
     "data": {
      "text/plain": [
       "Age Group\n",
       "<10       13\n",
       "10-14     35\n",
       "15-19    100\n",
       "20-24    175\n",
       "25-29     35\n",
       "30-34     32\n",
       "35-39     12\n",
       "40-44      3\n",
       "45+        0\n",
       "Name: Price, dtype: int64"
      ]
     },
     "execution_count": 33,
     "metadata": {},
     "output_type": "execute_result"
    }
   ],
   "source": [
    "#Calculate number of players per age group (dropping duplicates in SN) to use for normalized totals\n",
    "sn_totals_age = age_bins_df.drop_duplicates(subset=['SN'], keep=False)\n",
    "sn_totals_age = sn_totals_age.groupby('Age Group')\n",
    "sn_totals_age = sn_totals_age.count()['Price']\n",
    "sn_totals_age"
   ]
  },
  {
   "cell_type": "code",
   "execution_count": 34,
   "metadata": {
    "scrolled": true
   },
   "outputs": [
    {
     "data": {
      "text/plain": [
       "Age Group\n",
       "<10       $7.43\n",
       "10-14     $6.40\n",
       "15-19     $5.29\n",
       "20-24     $5.16\n",
       "25-29     $6.28\n",
       "30-34     $5.57\n",
       "35-39    $10.62\n",
       "40-44     $2.88\n",
       "45+       $0.00\n",
       "Name: Price, dtype: object"
      ]
     },
     "execution_count": 34,
     "metadata": {},
     "output_type": "execute_result"
    }
   ],
   "source": [
    "#Calculate normalized total purchases by age group\n",
    "norm_age_totals = age_bins_df.groupby('Age Group')\n",
    "norm_age_totals = norm_age_totals.sum()['Price']\n",
    "norm_age_totals = norm_age_totals / sn_totals_age\n",
    "norm_age_totals = norm_age_totals.map(\"${:,.2f}\".format)\n",
    "norm_age_totals = norm_age_totals.replace('$nan', '$0.00')\n",
    "norm_age_totals"
   ]
  },
  {
   "cell_type": "code",
   "execution_count": 35,
   "metadata": {},
   "outputs": [
    {
     "data": {
      "text/html": [
       "<div>\n",
       "<style scoped>\n",
       "    .dataframe tbody tr th:only-of-type {\n",
       "        vertical-align: middle;\n",
       "    }\n",
       "\n",
       "    .dataframe tbody tr th {\n",
       "        vertical-align: top;\n",
       "    }\n",
       "\n",
       "    .dataframe thead th {\n",
       "        text-align: right;\n",
       "    }\n",
       "</style>\n",
       "<table border=\"1\" class=\"dataframe\">\n",
       "  <thead>\n",
       "    <tr style=\"text-align: right;\">\n",
       "      <th></th>\n",
       "      <th>Total Purchases</th>\n",
       "    </tr>\n",
       "    <tr>\n",
       "      <th>Age Group</th>\n",
       "      <th></th>\n",
       "    </tr>\n",
       "  </thead>\n",
       "  <tbody>\n",
       "    <tr>\n",
       "      <th>&lt;10</th>\n",
       "      <td>32</td>\n",
       "    </tr>\n",
       "    <tr>\n",
       "      <th>10-14</th>\n",
       "      <td>78</td>\n",
       "    </tr>\n",
       "    <tr>\n",
       "      <th>15-19</th>\n",
       "      <td>184</td>\n",
       "    </tr>\n",
       "    <tr>\n",
       "      <th>20-24</th>\n",
       "      <td>305</td>\n",
       "    </tr>\n",
       "    <tr>\n",
       "      <th>25-29</th>\n",
       "      <td>76</td>\n",
       "    </tr>\n",
       "    <tr>\n",
       "      <th>30-34</th>\n",
       "      <td>58</td>\n",
       "    </tr>\n",
       "    <tr>\n",
       "      <th>35-39</th>\n",
       "      <td>44</td>\n",
       "    </tr>\n",
       "    <tr>\n",
       "      <th>40-44</th>\n",
       "      <td>3</td>\n",
       "    </tr>\n",
       "    <tr>\n",
       "      <th>45+</th>\n",
       "      <td>0</td>\n",
       "    </tr>\n",
       "  </tbody>\n",
       "</table>\n",
       "</div>"
      ],
      "text/plain": [
       "           Total Purchases\n",
       "Age Group                 \n",
       "<10                     32\n",
       "10-14                   78\n",
       "15-19                  184\n",
       "20-24                  305\n",
       "25-29                   76\n",
       "30-34                   58\n",
       "35-39                   44\n",
       "40-44                    3\n",
       "45+                      0"
      ]
     },
     "execution_count": 35,
     "metadata": {},
     "output_type": "execute_result"
    }
   ],
   "source": [
    "#Start to build purchases by age group table\n",
    "age_df = pd.DataFrame(count_purchases_age)\n",
    "age_df = age_df.rename(columns={'Price':'Total Purchases'})\n",
    "age_df"
   ]
  },
  {
   "cell_type": "code",
   "execution_count": 36,
   "metadata": {
    "scrolled": true
   },
   "outputs": [
    {
     "data": {
      "text/html": [
       "<div>\n",
       "<style scoped>\n",
       "    .dataframe tbody tr th:only-of-type {\n",
       "        vertical-align: middle;\n",
       "    }\n",
       "\n",
       "    .dataframe tbody tr th {\n",
       "        vertical-align: top;\n",
       "    }\n",
       "\n",
       "    .dataframe thead th {\n",
       "        text-align: right;\n",
       "    }\n",
       "</style>\n",
       "<table border=\"1\" class=\"dataframe\">\n",
       "  <thead>\n",
       "    <tr style=\"text-align: right;\">\n",
       "      <th></th>\n",
       "      <th>Total Purchases</th>\n",
       "      <th>Avg Purchase Price</th>\n",
       "    </tr>\n",
       "    <tr>\n",
       "      <th>Age Group</th>\n",
       "      <th></th>\n",
       "      <th></th>\n",
       "    </tr>\n",
       "  </thead>\n",
       "  <tbody>\n",
       "    <tr>\n",
       "      <th>&lt;10</th>\n",
       "      <td>32</td>\n",
       "      <td>$3.02</td>\n",
       "    </tr>\n",
       "    <tr>\n",
       "      <th>10-14</th>\n",
       "      <td>78</td>\n",
       "      <td>$2.87</td>\n",
       "    </tr>\n",
       "    <tr>\n",
       "      <th>15-19</th>\n",
       "      <td>184</td>\n",
       "      <td>$2.87</td>\n",
       "    </tr>\n",
       "    <tr>\n",
       "      <th>20-24</th>\n",
       "      <td>305</td>\n",
       "      <td>$2.96</td>\n",
       "    </tr>\n",
       "    <tr>\n",
       "      <th>25-29</th>\n",
       "      <td>76</td>\n",
       "      <td>$2.89</td>\n",
       "    </tr>\n",
       "    <tr>\n",
       "      <th>30-34</th>\n",
       "      <td>58</td>\n",
       "      <td>$3.07</td>\n",
       "    </tr>\n",
       "    <tr>\n",
       "      <th>35-39</th>\n",
       "      <td>44</td>\n",
       "      <td>$2.90</td>\n",
       "    </tr>\n",
       "    <tr>\n",
       "      <th>40-44</th>\n",
       "      <td>3</td>\n",
       "      <td>$2.88</td>\n",
       "    </tr>\n",
       "    <tr>\n",
       "      <th>45+</th>\n",
       "      <td>0</td>\n",
       "      <td>$0.00</td>\n",
       "    </tr>\n",
       "  </tbody>\n",
       "</table>\n",
       "</div>"
      ],
      "text/plain": [
       "           Total Purchases Avg Purchase Price\n",
       "Age Group                                    \n",
       "<10                     32              $3.02\n",
       "10-14                   78              $2.87\n",
       "15-19                  184              $2.87\n",
       "20-24                  305              $2.96\n",
       "25-29                   76              $2.89\n",
       "30-34                   58              $3.07\n",
       "35-39                   44              $2.90\n",
       "40-44                    3              $2.88\n",
       "45+                      0              $0.00"
      ]
     },
     "execution_count": 36,
     "metadata": {},
     "output_type": "execute_result"
    }
   ],
   "source": [
    "#Next step in building purchase by age group table\n",
    "age_df['Avg Purchase Price'] = avg_purchases_age\n",
    "age_df"
   ]
  },
  {
   "cell_type": "code",
   "execution_count": 37,
   "metadata": {
    "scrolled": true
   },
   "outputs": [
    {
     "data": {
      "text/html": [
       "<div>\n",
       "<style scoped>\n",
       "    .dataframe tbody tr th:only-of-type {\n",
       "        vertical-align: middle;\n",
       "    }\n",
       "\n",
       "    .dataframe tbody tr th {\n",
       "        vertical-align: top;\n",
       "    }\n",
       "\n",
       "    .dataframe thead th {\n",
       "        text-align: right;\n",
       "    }\n",
       "</style>\n",
       "<table border=\"1\" class=\"dataframe\">\n",
       "  <thead>\n",
       "    <tr style=\"text-align: right;\">\n",
       "      <th></th>\n",
       "      <th>Total Purchases</th>\n",
       "      <th>Avg Purchase Price</th>\n",
       "      <th>Total Purchase Value</th>\n",
       "    </tr>\n",
       "    <tr>\n",
       "      <th>Age Group</th>\n",
       "      <th></th>\n",
       "      <th></th>\n",
       "      <th></th>\n",
       "    </tr>\n",
       "  </thead>\n",
       "  <tbody>\n",
       "    <tr>\n",
       "      <th>&lt;10</th>\n",
       "      <td>32</td>\n",
       "      <td>$3.02</td>\n",
       "      <td>$96.62</td>\n",
       "    </tr>\n",
       "    <tr>\n",
       "      <th>10-14</th>\n",
       "      <td>78</td>\n",
       "      <td>$2.87</td>\n",
       "      <td>$224.15</td>\n",
       "    </tr>\n",
       "    <tr>\n",
       "      <th>15-19</th>\n",
       "      <td>184</td>\n",
       "      <td>$2.87</td>\n",
       "      <td>$528.74</td>\n",
       "    </tr>\n",
       "    <tr>\n",
       "      <th>20-24</th>\n",
       "      <td>305</td>\n",
       "      <td>$2.96</td>\n",
       "      <td>$902.61</td>\n",
       "    </tr>\n",
       "    <tr>\n",
       "      <th>25-29</th>\n",
       "      <td>76</td>\n",
       "      <td>$2.89</td>\n",
       "      <td>$219.82</td>\n",
       "    </tr>\n",
       "    <tr>\n",
       "      <th>30-34</th>\n",
       "      <td>58</td>\n",
       "      <td>$3.07</td>\n",
       "      <td>$178.26</td>\n",
       "    </tr>\n",
       "    <tr>\n",
       "      <th>35-39</th>\n",
       "      <td>44</td>\n",
       "      <td>$2.90</td>\n",
       "      <td>$127.49</td>\n",
       "    </tr>\n",
       "    <tr>\n",
       "      <th>40-44</th>\n",
       "      <td>3</td>\n",
       "      <td>$2.88</td>\n",
       "      <td>$8.64</td>\n",
       "    </tr>\n",
       "    <tr>\n",
       "      <th>45+</th>\n",
       "      <td>0</td>\n",
       "      <td>$0.00</td>\n",
       "      <td>$0.00</td>\n",
       "    </tr>\n",
       "  </tbody>\n",
       "</table>\n",
       "</div>"
      ],
      "text/plain": [
       "           Total Purchases Avg Purchase Price Total Purchase Value\n",
       "Age Group                                                         \n",
       "<10                     32              $3.02               $96.62\n",
       "10-14                   78              $2.87              $224.15\n",
       "15-19                  184              $2.87              $528.74\n",
       "20-24                  305              $2.96              $902.61\n",
       "25-29                   76              $2.89              $219.82\n",
       "30-34                   58              $3.07              $178.26\n",
       "35-39                   44              $2.90              $127.49\n",
       "40-44                    3              $2.88                $8.64\n",
       "45+                      0              $0.00                $0.00"
      ]
     },
     "execution_count": 37,
     "metadata": {},
     "output_type": "execute_result"
    }
   ],
   "source": [
    "#Next step in building purchase by age group table\n",
    "age_df['Total Purchase Value'] = total_purchases_age\n",
    "age_df"
   ]
  },
  {
   "cell_type": "code",
   "execution_count": 38,
   "metadata": {},
   "outputs": [
    {
     "data": {
      "text/html": [
       "<div>\n",
       "<style scoped>\n",
       "    .dataframe tbody tr th:only-of-type {\n",
       "        vertical-align: middle;\n",
       "    }\n",
       "\n",
       "    .dataframe tbody tr th {\n",
       "        vertical-align: top;\n",
       "    }\n",
       "\n",
       "    .dataframe thead th {\n",
       "        text-align: right;\n",
       "    }\n",
       "</style>\n",
       "<table border=\"1\" class=\"dataframe\">\n",
       "  <thead>\n",
       "    <tr style=\"text-align: right;\">\n",
       "      <th></th>\n",
       "      <th>Total Purchases</th>\n",
       "      <th>Avg Purchase Price</th>\n",
       "      <th>Total Purchase Value</th>\n",
       "      <th>Normalized Purchase Price</th>\n",
       "    </tr>\n",
       "    <tr>\n",
       "      <th>Age Group</th>\n",
       "      <th></th>\n",
       "      <th></th>\n",
       "      <th></th>\n",
       "      <th></th>\n",
       "    </tr>\n",
       "  </thead>\n",
       "  <tbody>\n",
       "    <tr>\n",
       "      <th>&lt;10</th>\n",
       "      <td>32</td>\n",
       "      <td>$3.02</td>\n",
       "      <td>$96.62</td>\n",
       "      <td>$7.43</td>\n",
       "    </tr>\n",
       "    <tr>\n",
       "      <th>10-14</th>\n",
       "      <td>78</td>\n",
       "      <td>$2.87</td>\n",
       "      <td>$224.15</td>\n",
       "      <td>$6.40</td>\n",
       "    </tr>\n",
       "    <tr>\n",
       "      <th>15-19</th>\n",
       "      <td>184</td>\n",
       "      <td>$2.87</td>\n",
       "      <td>$528.74</td>\n",
       "      <td>$5.29</td>\n",
       "    </tr>\n",
       "    <tr>\n",
       "      <th>20-24</th>\n",
       "      <td>305</td>\n",
       "      <td>$2.96</td>\n",
       "      <td>$902.61</td>\n",
       "      <td>$5.16</td>\n",
       "    </tr>\n",
       "    <tr>\n",
       "      <th>25-29</th>\n",
       "      <td>76</td>\n",
       "      <td>$2.89</td>\n",
       "      <td>$219.82</td>\n",
       "      <td>$6.28</td>\n",
       "    </tr>\n",
       "    <tr>\n",
       "      <th>30-34</th>\n",
       "      <td>58</td>\n",
       "      <td>$3.07</td>\n",
       "      <td>$178.26</td>\n",
       "      <td>$5.57</td>\n",
       "    </tr>\n",
       "    <tr>\n",
       "      <th>35-39</th>\n",
       "      <td>44</td>\n",
       "      <td>$2.90</td>\n",
       "      <td>$127.49</td>\n",
       "      <td>$10.62</td>\n",
       "    </tr>\n",
       "    <tr>\n",
       "      <th>40-44</th>\n",
       "      <td>3</td>\n",
       "      <td>$2.88</td>\n",
       "      <td>$8.64</td>\n",
       "      <td>$2.88</td>\n",
       "    </tr>\n",
       "    <tr>\n",
       "      <th>45+</th>\n",
       "      <td>0</td>\n",
       "      <td>$0.00</td>\n",
       "      <td>$0.00</td>\n",
       "      <td>$0.00</td>\n",
       "    </tr>\n",
       "  </tbody>\n",
       "</table>\n",
       "</div>"
      ],
      "text/plain": [
       "           Total Purchases Avg Purchase Price Total Purchase Value  \\\n",
       "Age Group                                                            \n",
       "<10                     32              $3.02               $96.62   \n",
       "10-14                   78              $2.87              $224.15   \n",
       "15-19                  184              $2.87              $528.74   \n",
       "20-24                  305              $2.96              $902.61   \n",
       "25-29                   76              $2.89              $219.82   \n",
       "30-34                   58              $3.07              $178.26   \n",
       "35-39                   44              $2.90              $127.49   \n",
       "40-44                    3              $2.88                $8.64   \n",
       "45+                      0              $0.00                $0.00   \n",
       "\n",
       "          Normalized Purchase Price  \n",
       "Age Group                            \n",
       "<10                           $7.43  \n",
       "10-14                         $6.40  \n",
       "15-19                         $5.29  \n",
       "20-24                         $5.16  \n",
       "25-29                         $6.28  \n",
       "30-34                         $5.57  \n",
       "35-39                        $10.62  \n",
       "40-44                         $2.88  \n",
       "45+                           $0.00  "
      ]
     },
     "execution_count": 38,
     "metadata": {},
     "output_type": "execute_result"
    }
   ],
   "source": [
    "#Last step in building purchase by age group table\n",
    "age_df['Normalized Purchase Price'] = norm_age_totals\n",
    "age_df"
   ]
  },
  {
   "cell_type": "code",
   "execution_count": 39,
   "metadata": {},
   "outputs": [
    {
     "data": {
      "text/html": [
       "<div>\n",
       "<style scoped>\n",
       "    .dataframe tbody tr th:only-of-type {\n",
       "        vertical-align: middle;\n",
       "    }\n",
       "\n",
       "    .dataframe tbody tr th {\n",
       "        vertical-align: top;\n",
       "    }\n",
       "\n",
       "    .dataframe thead th {\n",
       "        text-align: right;\n",
       "    }\n",
       "</style>\n",
       "<table border=\"1\" class=\"dataframe\">\n",
       "  <thead>\n",
       "    <tr style=\"text-align: right;\">\n",
       "      <th></th>\n",
       "      <th>Price</th>\n",
       "    </tr>\n",
       "    <tr>\n",
       "      <th>SN</th>\n",
       "      <th></th>\n",
       "    </tr>\n",
       "  </thead>\n",
       "  <tbody>\n",
       "    <tr>\n",
       "      <th>Undirrala66</th>\n",
       "      <td>17.06</td>\n",
       "    </tr>\n",
       "    <tr>\n",
       "      <th>Saedue76</th>\n",
       "      <td>13.56</td>\n",
       "    </tr>\n",
       "    <tr>\n",
       "      <th>Mindimnya67</th>\n",
       "      <td>12.74</td>\n",
       "    </tr>\n",
       "    <tr>\n",
       "      <th>Haellysu29</th>\n",
       "      <td>12.73</td>\n",
       "    </tr>\n",
       "    <tr>\n",
       "      <th>Eoda93</th>\n",
       "      <td>11.58</td>\n",
       "    </tr>\n",
       "  </tbody>\n",
       "</table>\n",
       "</div>"
      ],
      "text/plain": [
       "             Price\n",
       "SN                \n",
       "Undirrala66  17.06\n",
       "Saedue76     13.56\n",
       "Mindimnya67  12.74\n",
       "Haellysu29   12.73\n",
       "Eoda93       11.58"
      ]
     },
     "execution_count": 39,
     "metadata": {},
     "output_type": "execute_result"
    }
   ],
   "source": [
    "#Calculate total amount spent per screen name, sort from most to least\n",
    "total_price = purchase_df.groupby(['SN']).sum()[\"Price\"]\n",
    "total_price_df = pd.DataFrame(total_price).sort_values('Price', ascending=False)\n",
    "total_price_df.head()"
   ]
  },
  {
   "cell_type": "code",
   "execution_count": 40,
   "metadata": {},
   "outputs": [
    {
     "data": {
      "text/plain": [
       "SN\n",
       "Undirrala66    5\n",
       "Hailaphos89    4\n",
       "Mindimnya67    4\n",
       "Qarwen67       4\n",
       "Sondastan54    4\n",
       "Name: Price, dtype: int64"
      ]
     },
     "execution_count": 40,
     "metadata": {},
     "output_type": "execute_result"
    }
   ],
   "source": [
    "#Calculate total number of purchases by screen name\n",
    "total_count = purchase_df.groupby(['SN']).count()[\"Price\"]\n",
    "total_count.sort_values(ascending=False).head()"
   ]
  },
  {
   "cell_type": "code",
   "execution_count": 41,
   "metadata": {},
   "outputs": [
    {
     "data": {
      "text/html": [
       "<div>\n",
       "<style scoped>\n",
       "    .dataframe tbody tr th:only-of-type {\n",
       "        vertical-align: middle;\n",
       "    }\n",
       "\n",
       "    .dataframe tbody tr th {\n",
       "        vertical-align: top;\n",
       "    }\n",
       "\n",
       "    .dataframe thead th {\n",
       "        text-align: right;\n",
       "    }\n",
       "</style>\n",
       "<table border=\"1\" class=\"dataframe\">\n",
       "  <thead>\n",
       "    <tr style=\"text-align: right;\">\n",
       "      <th></th>\n",
       "      <th>Price</th>\n",
       "      <th>Purchase Count</th>\n",
       "    </tr>\n",
       "    <tr>\n",
       "      <th>SN</th>\n",
       "      <th></th>\n",
       "      <th></th>\n",
       "    </tr>\n",
       "  </thead>\n",
       "  <tbody>\n",
       "    <tr>\n",
       "      <th>Undirrala66</th>\n",
       "      <td>17.06</td>\n",
       "      <td>5</td>\n",
       "    </tr>\n",
       "    <tr>\n",
       "      <th>Saedue76</th>\n",
       "      <td>13.56</td>\n",
       "      <td>4</td>\n",
       "    </tr>\n",
       "    <tr>\n",
       "      <th>Mindimnya67</th>\n",
       "      <td>12.74</td>\n",
       "      <td>4</td>\n",
       "    </tr>\n",
       "    <tr>\n",
       "      <th>Haellysu29</th>\n",
       "      <td>12.73</td>\n",
       "      <td>3</td>\n",
       "    </tr>\n",
       "    <tr>\n",
       "      <th>Eoda93</th>\n",
       "      <td>11.58</td>\n",
       "      <td>3</td>\n",
       "    </tr>\n",
       "  </tbody>\n",
       "</table>\n",
       "</div>"
      ],
      "text/plain": [
       "             Price  Purchase Count\n",
       "SN                                \n",
       "Undirrala66  17.06               5\n",
       "Saedue76     13.56               4\n",
       "Mindimnya67  12.74               4\n",
       "Haellysu29   12.73               3\n",
       "Eoda93       11.58               3"
      ]
     },
     "execution_count": 41,
     "metadata": {},
     "output_type": "execute_result"
    }
   ],
   "source": [
    "#Combine purchase count with price to begin top spenders table\n",
    "total_price_df[\"Purchase Count\"] = total_count\n",
    "total_price_df.head()"
   ]
  },
  {
   "cell_type": "code",
   "execution_count": 42,
   "metadata": {},
   "outputs": [
    {
     "data": {
      "text/plain": [
       "SN\n",
       "Adairialis76    $2.46\n",
       "Aduephos78      $2.23\n",
       "Aeduera68       $1.93\n",
       "Aela49          $2.46\n",
       "Aela59          $1.27\n",
       "Name: Price, dtype: object"
      ]
     },
     "execution_count": 42,
     "metadata": {},
     "output_type": "execute_result"
    }
   ],
   "source": [
    "#Calculate average price paid per screen name\n",
    "avg_price = purchase_df.groupby(['SN']).mean()[\"Price\"].map(\"${:,.2f}\".format)\n",
    "avg_price.head()"
   ]
  },
  {
   "cell_type": "code",
   "execution_count": 43,
   "metadata": {},
   "outputs": [
    {
     "data": {
      "text/html": [
       "<div>\n",
       "<style scoped>\n",
       "    .dataframe tbody tr th:only-of-type {\n",
       "        vertical-align: middle;\n",
       "    }\n",
       "\n",
       "    .dataframe tbody tr th {\n",
       "        vertical-align: top;\n",
       "    }\n",
       "\n",
       "    .dataframe thead th {\n",
       "        text-align: right;\n",
       "    }\n",
       "</style>\n",
       "<table border=\"1\" class=\"dataframe\">\n",
       "  <thead>\n",
       "    <tr style=\"text-align: right;\">\n",
       "      <th></th>\n",
       "      <th>Price</th>\n",
       "      <th>Purchase Count</th>\n",
       "      <th>Average Price</th>\n",
       "    </tr>\n",
       "    <tr>\n",
       "      <th>SN</th>\n",
       "      <th></th>\n",
       "      <th></th>\n",
       "      <th></th>\n",
       "    </tr>\n",
       "  </thead>\n",
       "  <tbody>\n",
       "    <tr>\n",
       "      <th>Undirrala66</th>\n",
       "      <td>17.06</td>\n",
       "      <td>5</td>\n",
       "      <td>$3.41</td>\n",
       "    </tr>\n",
       "    <tr>\n",
       "      <th>Saedue76</th>\n",
       "      <td>13.56</td>\n",
       "      <td>4</td>\n",
       "      <td>$3.39</td>\n",
       "    </tr>\n",
       "    <tr>\n",
       "      <th>Mindimnya67</th>\n",
       "      <td>12.74</td>\n",
       "      <td>4</td>\n",
       "      <td>$3.18</td>\n",
       "    </tr>\n",
       "    <tr>\n",
       "      <th>Haellysu29</th>\n",
       "      <td>12.73</td>\n",
       "      <td>3</td>\n",
       "      <td>$4.24</td>\n",
       "    </tr>\n",
       "    <tr>\n",
       "      <th>Eoda93</th>\n",
       "      <td>11.58</td>\n",
       "      <td>3</td>\n",
       "      <td>$3.86</td>\n",
       "    </tr>\n",
       "  </tbody>\n",
       "</table>\n",
       "</div>"
      ],
      "text/plain": [
       "             Price  Purchase Count Average Price\n",
       "SN                                              \n",
       "Undirrala66  17.06               5         $3.41\n",
       "Saedue76     13.56               4         $3.39\n",
       "Mindimnya67  12.74               4         $3.18\n",
       "Haellysu29   12.73               3         $4.24\n",
       "Eoda93       11.58               3         $3.86"
      ]
     },
     "execution_count": 43,
     "metadata": {},
     "output_type": "execute_result"
    }
   ],
   "source": [
    "#Add average price per screen name to top spenders table\n",
    "total_price_df[\"Average Price\"] = avg_price\n",
    "total_price_df.head()"
   ]
  },
  {
   "cell_type": "code",
   "execution_count": 44,
   "metadata": {},
   "outputs": [
    {
     "data": {
      "text/plain": [
       "SN\n",
       "Adairialis76    $2.46\n",
       "Aduephos78      $6.70\n",
       "Aeduera68       $5.80\n",
       "Aela49          $2.46\n",
       "Aela59          $1.27\n",
       "Name: Price, dtype: object"
      ]
     },
     "execution_count": 44,
     "metadata": {},
     "output_type": "execute_result"
    }
   ],
   "source": [
    "#Calculate total purchase value per screen name\n",
    "total_purchase_value = purchase_df.groupby(['SN']).sum()[\"Price\"].map(\"${:,.2f}\".format)\n",
    "total_purchase_value.head()"
   ]
  },
  {
   "cell_type": "code",
   "execution_count": 45,
   "metadata": {},
   "outputs": [
    {
     "data": {
      "text/html": [
       "<div>\n",
       "<style scoped>\n",
       "    .dataframe tbody tr th:only-of-type {\n",
       "        vertical-align: middle;\n",
       "    }\n",
       "\n",
       "    .dataframe tbody tr th {\n",
       "        vertical-align: top;\n",
       "    }\n",
       "\n",
       "    .dataframe thead th {\n",
       "        text-align: right;\n",
       "    }\n",
       "</style>\n",
       "<table border=\"1\" class=\"dataframe\">\n",
       "  <thead>\n",
       "    <tr style=\"text-align: right;\">\n",
       "      <th></th>\n",
       "      <th>Price</th>\n",
       "      <th>Purchase Count</th>\n",
       "      <th>Average Price</th>\n",
       "      <th>Total Purchase Value</th>\n",
       "    </tr>\n",
       "    <tr>\n",
       "      <th>SN</th>\n",
       "      <th></th>\n",
       "      <th></th>\n",
       "      <th></th>\n",
       "      <th></th>\n",
       "    </tr>\n",
       "  </thead>\n",
       "  <tbody>\n",
       "    <tr>\n",
       "      <th>Undirrala66</th>\n",
       "      <td>17.06</td>\n",
       "      <td>5</td>\n",
       "      <td>$3.41</td>\n",
       "      <td>$17.06</td>\n",
       "    </tr>\n",
       "    <tr>\n",
       "      <th>Saedue76</th>\n",
       "      <td>13.56</td>\n",
       "      <td>4</td>\n",
       "      <td>$3.39</td>\n",
       "      <td>$13.56</td>\n",
       "    </tr>\n",
       "    <tr>\n",
       "      <th>Mindimnya67</th>\n",
       "      <td>12.74</td>\n",
       "      <td>4</td>\n",
       "      <td>$3.18</td>\n",
       "      <td>$12.74</td>\n",
       "    </tr>\n",
       "    <tr>\n",
       "      <th>Haellysu29</th>\n",
       "      <td>12.73</td>\n",
       "      <td>3</td>\n",
       "      <td>$4.24</td>\n",
       "      <td>$12.73</td>\n",
       "    </tr>\n",
       "    <tr>\n",
       "      <th>Eoda93</th>\n",
       "      <td>11.58</td>\n",
       "      <td>3</td>\n",
       "      <td>$3.86</td>\n",
       "      <td>$11.58</td>\n",
       "    </tr>\n",
       "  </tbody>\n",
       "</table>\n",
       "</div>"
      ],
      "text/plain": [
       "             Price  Purchase Count Average Price Total Purchase Value\n",
       "SN                                                                   \n",
       "Undirrala66  17.06               5         $3.41               $17.06\n",
       "Saedue76     13.56               4         $3.39               $13.56\n",
       "Mindimnya67  12.74               4         $3.18               $12.74\n",
       "Haellysu29   12.73               3         $4.24               $12.73\n",
       "Eoda93       11.58               3         $3.86               $11.58"
      ]
     },
     "execution_count": 45,
     "metadata": {},
     "output_type": "execute_result"
    }
   ],
   "source": [
    "#Add total purchase value per screen name to top spenders table\n",
    "total_price_df[\"Total Purchase Value\"] = total_purchase_value\n",
    "total_price_df.head()"
   ]
  },
  {
   "cell_type": "code",
   "execution_count": 46,
   "metadata": {},
   "outputs": [
    {
     "data": {
      "text/html": [
       "<div>\n",
       "<style scoped>\n",
       "    .dataframe tbody tr th:only-of-type {\n",
       "        vertical-align: middle;\n",
       "    }\n",
       "\n",
       "    .dataframe tbody tr th {\n",
       "        vertical-align: top;\n",
       "    }\n",
       "\n",
       "    .dataframe thead th {\n",
       "        text-align: right;\n",
       "    }\n",
       "</style>\n",
       "<table border=\"1\" class=\"dataframe\">\n",
       "  <thead>\n",
       "    <tr style=\"text-align: right;\">\n",
       "      <th></th>\n",
       "      <th>Purchase Count</th>\n",
       "      <th>Average Price</th>\n",
       "      <th>Total Purchase Value</th>\n",
       "    </tr>\n",
       "    <tr>\n",
       "      <th>SN</th>\n",
       "      <th></th>\n",
       "      <th></th>\n",
       "      <th></th>\n",
       "    </tr>\n",
       "  </thead>\n",
       "  <tbody>\n",
       "    <tr>\n",
       "      <th>Undirrala66</th>\n",
       "      <td>5</td>\n",
       "      <td>$3.41</td>\n",
       "      <td>$17.06</td>\n",
       "    </tr>\n",
       "    <tr>\n",
       "      <th>Saedue76</th>\n",
       "      <td>4</td>\n",
       "      <td>$3.39</td>\n",
       "      <td>$13.56</td>\n",
       "    </tr>\n",
       "    <tr>\n",
       "      <th>Mindimnya67</th>\n",
       "      <td>4</td>\n",
       "      <td>$3.18</td>\n",
       "      <td>$12.74</td>\n",
       "    </tr>\n",
       "    <tr>\n",
       "      <th>Haellysu29</th>\n",
       "      <td>3</td>\n",
       "      <td>$4.24</td>\n",
       "      <td>$12.73</td>\n",
       "    </tr>\n",
       "    <tr>\n",
       "      <th>Eoda93</th>\n",
       "      <td>3</td>\n",
       "      <td>$3.86</td>\n",
       "      <td>$11.58</td>\n",
       "    </tr>\n",
       "  </tbody>\n",
       "</table>\n",
       "</div>"
      ],
      "text/plain": [
       "             Purchase Count Average Price Total Purchase Value\n",
       "SN                                                            \n",
       "Undirrala66               5         $3.41               $17.06\n",
       "Saedue76                  4         $3.39               $13.56\n",
       "Mindimnya67               4         $3.18               $12.74\n",
       "Haellysu29                3         $4.24               $12.73\n",
       "Eoda93                    3         $3.86               $11.58"
      ]
     },
     "execution_count": 46,
     "metadata": {},
     "output_type": "execute_result"
    }
   ],
   "source": [
    "#Delete an unnecessary column, display final top spenders table\n",
    "total_price_df = total_price_df.drop('Price', 1)\n",
    "total_price_df.head()"
   ]
  },
  {
   "cell_type": "code",
   "execution_count": 47,
   "metadata": {},
   "outputs": [
    {
     "data": {
      "text/html": [
       "<div>\n",
       "<style scoped>\n",
       "    .dataframe tbody tr th:only-of-type {\n",
       "        vertical-align: middle;\n",
       "    }\n",
       "\n",
       "    .dataframe tbody tr th {\n",
       "        vertical-align: top;\n",
       "    }\n",
       "\n",
       "    .dataframe thead th {\n",
       "        text-align: right;\n",
       "    }\n",
       "</style>\n",
       "<table border=\"1\" class=\"dataframe\">\n",
       "  <thead>\n",
       "    <tr style=\"text-align: right;\">\n",
       "      <th></th>\n",
       "      <th></th>\n",
       "      <th>Purchase Count</th>\n",
       "    </tr>\n",
       "    <tr>\n",
       "      <th>Item ID</th>\n",
       "      <th>Item Name</th>\n",
       "      <th></th>\n",
       "    </tr>\n",
       "  </thead>\n",
       "  <tbody>\n",
       "    <tr>\n",
       "      <th>39</th>\n",
       "      <th>Betrayal, Whisper of Grieving Widows</th>\n",
       "      <td>11</td>\n",
       "    </tr>\n",
       "    <tr>\n",
       "      <th>84</th>\n",
       "      <th>Arcane Gem</th>\n",
       "      <td>11</td>\n",
       "    </tr>\n",
       "    <tr>\n",
       "      <th>31</th>\n",
       "      <th>Trickster</th>\n",
       "      <td>9</td>\n",
       "    </tr>\n",
       "    <tr>\n",
       "      <th>175</th>\n",
       "      <th>Woeful Adamantite Claymore</th>\n",
       "      <td>9</td>\n",
       "    </tr>\n",
       "    <tr>\n",
       "      <th>13</th>\n",
       "      <th>Serenity</th>\n",
       "      <td>9</td>\n",
       "    </tr>\n",
       "  </tbody>\n",
       "</table>\n",
       "</div>"
      ],
      "text/plain": [
       "                                              Purchase Count\n",
       "Item ID Item Name                                           \n",
       "39      Betrayal, Whisper of Grieving Widows              11\n",
       "84      Arcane Gem                                        11\n",
       "31      Trickster                                          9\n",
       "175     Woeful Adamantite Claymore                         9\n",
       "13      Serenity                                           9"
      ]
     },
     "execution_count": 47,
     "metadata": {},
     "output_type": "execute_result"
    }
   ],
   "source": [
    "#Begin most popular items table by sorting by item ID and name and sorting from most to least\n",
    "purchases_count = purchase_df.groupby(['Item ID','Item Name']).count()['Price']\n",
    "purchases_count_df = pd.DataFrame(purchases_count)\n",
    "purchases_count_df = purchases_count_df.sort_values('Price',ascending=False)\n",
    "purchases_count_df = purchases_count_df.rename(columns={\"Price\":\"Purchase Count\"})\n",
    "purchases_count_df.head()"
   ]
  },
  {
   "cell_type": "code",
   "execution_count": 48,
   "metadata": {},
   "outputs": [],
   "source": [
    "#Calculate average purchase price per item for most popular items table\n",
    "purchase_price = purchase_df.groupby(['Item ID','Item Name'])['Price']\n",
    "purchase_price = purchase_price.mean().map(\"${:,.2f}\".format)"
   ]
  },
  {
   "cell_type": "code",
   "execution_count": 49,
   "metadata": {},
   "outputs": [],
   "source": [
    "#Calculate total purchase price per item for most popular items table\n",
    "total_price = purchase_df.groupby(['Item ID','Item Name'])['Price']\n",
    "total_price = total_price.sum().map(\"${:,.2f}\".format)"
   ]
  },
  {
   "cell_type": "code",
   "execution_count": 50,
   "metadata": {},
   "outputs": [
    {
     "data": {
      "text/html": [
       "<div>\n",
       "<style scoped>\n",
       "    .dataframe tbody tr th:only-of-type {\n",
       "        vertical-align: middle;\n",
       "    }\n",
       "\n",
       "    .dataframe tbody tr th {\n",
       "        vertical-align: top;\n",
       "    }\n",
       "\n",
       "    .dataframe thead th {\n",
       "        text-align: right;\n",
       "    }\n",
       "</style>\n",
       "<table border=\"1\" class=\"dataframe\">\n",
       "  <thead>\n",
       "    <tr style=\"text-align: right;\">\n",
       "      <th></th>\n",
       "      <th></th>\n",
       "      <th>Purchase Count</th>\n",
       "      <th>Price</th>\n",
       "      <th>Total Price</th>\n",
       "    </tr>\n",
       "    <tr>\n",
       "      <th>Item ID</th>\n",
       "      <th>Item Name</th>\n",
       "      <th></th>\n",
       "      <th></th>\n",
       "      <th></th>\n",
       "    </tr>\n",
       "  </thead>\n",
       "  <tbody>\n",
       "    <tr>\n",
       "      <th>39</th>\n",
       "      <th>Betrayal, Whisper of Grieving Widows</th>\n",
       "      <td>11</td>\n",
       "      <td>$2.35</td>\n",
       "      <td>$25.85</td>\n",
       "    </tr>\n",
       "    <tr>\n",
       "      <th>84</th>\n",
       "      <th>Arcane Gem</th>\n",
       "      <td>11</td>\n",
       "      <td>$2.23</td>\n",
       "      <td>$24.53</td>\n",
       "    </tr>\n",
       "    <tr>\n",
       "      <th>31</th>\n",
       "      <th>Trickster</th>\n",
       "      <td>9</td>\n",
       "      <td>$2.07</td>\n",
       "      <td>$18.63</td>\n",
       "    </tr>\n",
       "    <tr>\n",
       "      <th>175</th>\n",
       "      <th>Woeful Adamantite Claymore</th>\n",
       "      <td>9</td>\n",
       "      <td>$1.24</td>\n",
       "      <td>$11.16</td>\n",
       "    </tr>\n",
       "    <tr>\n",
       "      <th>13</th>\n",
       "      <th>Serenity</th>\n",
       "      <td>9</td>\n",
       "      <td>$1.49</td>\n",
       "      <td>$13.41</td>\n",
       "    </tr>\n",
       "    <tr>\n",
       "      <th>34</th>\n",
       "      <th>Retribution Axe</th>\n",
       "      <td>9</td>\n",
       "      <td>$4.14</td>\n",
       "      <td>$37.26</td>\n",
       "    </tr>\n",
       "  </tbody>\n",
       "</table>\n",
       "</div>"
      ],
      "text/plain": [
       "                                              Purchase Count  Price  \\\n",
       "Item ID Item Name                                                     \n",
       "39      Betrayal, Whisper of Grieving Widows              11  $2.35   \n",
       "84      Arcane Gem                                        11  $2.23   \n",
       "31      Trickster                                          9  $2.07   \n",
       "175     Woeful Adamantite Claymore                         9  $1.24   \n",
       "13      Serenity                                           9  $1.49   \n",
       "34      Retribution Axe                                    9  $4.14   \n",
       "\n",
       "                                             Total Price  \n",
       "Item ID Item Name                                         \n",
       "39      Betrayal, Whisper of Grieving Widows      $25.85  \n",
       "84      Arcane Gem                                $24.53  \n",
       "31      Trickster                                 $18.63  \n",
       "175     Woeful Adamantite Claymore                $11.16  \n",
       "13      Serenity                                  $13.41  \n",
       "34      Retribution Axe                           $37.26  "
      ]
     },
     "execution_count": 50,
     "metadata": {},
     "output_type": "execute_result"
    }
   ],
   "source": [
    "#Finalize most popular items table\n",
    "purchases_count_df['Price'] = purchase_price\n",
    "purchases_count_df['Total Price']=total_price\n",
    "purchases_count_df.head(6)"
   ]
  },
  {
   "cell_type": "code",
   "execution_count": 51,
   "metadata": {},
   "outputs": [
    {
     "data": {
      "text/html": [
       "<div>\n",
       "<style scoped>\n",
       "    .dataframe tbody tr th:only-of-type {\n",
       "        vertical-align: middle;\n",
       "    }\n",
       "\n",
       "    .dataframe tbody tr th {\n",
       "        vertical-align: top;\n",
       "    }\n",
       "\n",
       "    .dataframe thead th {\n",
       "        text-align: right;\n",
       "    }\n",
       "</style>\n",
       "<table border=\"1\" class=\"dataframe\">\n",
       "  <thead>\n",
       "    <tr style=\"text-align: right;\">\n",
       "      <th></th>\n",
       "      <th></th>\n",
       "      <th>Total Purchase Value</th>\n",
       "    </tr>\n",
       "    <tr>\n",
       "      <th>Item ID</th>\n",
       "      <th>Item Name</th>\n",
       "      <th></th>\n",
       "    </tr>\n",
       "  </thead>\n",
       "  <tbody>\n",
       "    <tr>\n",
       "      <th>0</th>\n",
       "      <th>Splinter</th>\n",
       "      <td>1.82</td>\n",
       "    </tr>\n",
       "    <tr>\n",
       "      <th>1</th>\n",
       "      <th>Crucifer</th>\n",
       "      <td>9.12</td>\n",
       "    </tr>\n",
       "    <tr>\n",
       "      <th>2</th>\n",
       "      <th>Verdict</th>\n",
       "      <td>3.40</td>\n",
       "    </tr>\n",
       "    <tr>\n",
       "      <th>3</th>\n",
       "      <th>Phantomlight</th>\n",
       "      <td>1.79</td>\n",
       "    </tr>\n",
       "    <tr>\n",
       "      <th>4</th>\n",
       "      <th>Bloodlord's Fetish</th>\n",
       "      <td>2.28</td>\n",
       "    </tr>\n",
       "  </tbody>\n",
       "</table>\n",
       "</div>"
      ],
      "text/plain": [
       "                            Total Purchase Value\n",
       "Item ID Item Name                               \n",
       "0       Splinter                            1.82\n",
       "1       Crucifer                            9.12\n",
       "2       Verdict                             3.40\n",
       "3       Phantomlight                        1.79\n",
       "4       Bloodlord's Fetish                  2.28"
      ]
     },
     "execution_count": 51,
     "metadata": {},
     "output_type": "execute_result"
    }
   ],
   "source": [
    "#Sum total purchase values for each item\n",
    "item_total_purchase = purchase_df.groupby(['Item ID','Item Name'])['Price']\n",
    "item_total_purchase = item_total_purchase.sum()\n",
    "item_total_purchase_df = pd.DataFrame(item_total_purchase)\n",
    "item_total_purchase_df = item_total_purchase_df.rename(columns={\"Price\":\"Total Purchase Value\"})\n",
    "item_total_purchase_df.head()"
   ]
  },
  {
   "cell_type": "code",
   "execution_count": 52,
   "metadata": {},
   "outputs": [
    {
     "data": {
      "text/html": [
       "<div>\n",
       "<style scoped>\n",
       "    .dataframe tbody tr th:only-of-type {\n",
       "        vertical-align: middle;\n",
       "    }\n",
       "\n",
       "    .dataframe tbody tr th {\n",
       "        vertical-align: top;\n",
       "    }\n",
       "\n",
       "    .dataframe thead th {\n",
       "        text-align: right;\n",
       "    }\n",
       "</style>\n",
       "<table border=\"1\" class=\"dataframe\">\n",
       "  <thead>\n",
       "    <tr style=\"text-align: right;\">\n",
       "      <th></th>\n",
       "      <th></th>\n",
       "      <th>Total Purchase Value</th>\n",
       "      <th>Total Purchase Count</th>\n",
       "    </tr>\n",
       "    <tr>\n",
       "      <th>Item ID</th>\n",
       "      <th>Item Name</th>\n",
       "      <th></th>\n",
       "      <th></th>\n",
       "    </tr>\n",
       "  </thead>\n",
       "  <tbody>\n",
       "    <tr>\n",
       "      <th>0</th>\n",
       "      <th>Splinter</th>\n",
       "      <td>1.82</td>\n",
       "      <td>1</td>\n",
       "    </tr>\n",
       "    <tr>\n",
       "      <th>1</th>\n",
       "      <th>Crucifer</th>\n",
       "      <td>9.12</td>\n",
       "      <td>4</td>\n",
       "    </tr>\n",
       "    <tr>\n",
       "      <th>2</th>\n",
       "      <th>Verdict</th>\n",
       "      <td>3.40</td>\n",
       "      <td>1</td>\n",
       "    </tr>\n",
       "    <tr>\n",
       "      <th>3</th>\n",
       "      <th>Phantomlight</th>\n",
       "      <td>1.79</td>\n",
       "      <td>1</td>\n",
       "    </tr>\n",
       "    <tr>\n",
       "      <th>4</th>\n",
       "      <th>Bloodlord's Fetish</th>\n",
       "      <td>2.28</td>\n",
       "      <td>1</td>\n",
       "    </tr>\n",
       "  </tbody>\n",
       "</table>\n",
       "</div>"
      ],
      "text/plain": [
       "                            Total Purchase Value  Total Purchase Count\n",
       "Item ID Item Name                                                     \n",
       "0       Splinter                            1.82                     1\n",
       "1       Crucifer                            9.12                     4\n",
       "2       Verdict                             3.40                     1\n",
       "3       Phantomlight                        1.79                     1\n",
       "4       Bloodlord's Fetish                  2.28                     1"
      ]
     },
     "execution_count": 52,
     "metadata": {},
     "output_type": "execute_result"
    }
   ],
   "source": [
    "#Calculate item purchase count and add to most profitable item table\n",
    "item_purchase_count = purchase_df.groupby(['Item ID','Item Name'])['Price']\n",
    "item_purchase_count = item_purchase_count.count()\n",
    "item_total_purchase_df['Total Purchase Count'] = item_purchase_count\n",
    "item_total_purchase_df.head()"
   ]
  },
  {
   "cell_type": "code",
   "execution_count": 53,
   "metadata": {},
   "outputs": [
    {
     "data": {
      "text/html": [
       "<div>\n",
       "<style scoped>\n",
       "    .dataframe tbody tr th:only-of-type {\n",
       "        vertical-align: middle;\n",
       "    }\n",
       "\n",
       "    .dataframe tbody tr th {\n",
       "        vertical-align: top;\n",
       "    }\n",
       "\n",
       "    .dataframe thead th {\n",
       "        text-align: right;\n",
       "    }\n",
       "</style>\n",
       "<table border=\"1\" class=\"dataframe\">\n",
       "  <thead>\n",
       "    <tr style=\"text-align: right;\">\n",
       "      <th></th>\n",
       "      <th></th>\n",
       "      <th>Total Purchase Value</th>\n",
       "      <th>Total Purchase Count</th>\n",
       "      <th>Purchase Price</th>\n",
       "    </tr>\n",
       "    <tr>\n",
       "      <th>Item ID</th>\n",
       "      <th>Item Name</th>\n",
       "      <th></th>\n",
       "      <th></th>\n",
       "      <th></th>\n",
       "    </tr>\n",
       "  </thead>\n",
       "  <tbody>\n",
       "    <tr>\n",
       "      <th>0</th>\n",
       "      <th>Splinter</th>\n",
       "      <td>1.82</td>\n",
       "      <td>1</td>\n",
       "      <td>$1.82</td>\n",
       "    </tr>\n",
       "    <tr>\n",
       "      <th>1</th>\n",
       "      <th>Crucifer</th>\n",
       "      <td>9.12</td>\n",
       "      <td>4</td>\n",
       "      <td>$2.28</td>\n",
       "    </tr>\n",
       "    <tr>\n",
       "      <th>2</th>\n",
       "      <th>Verdict</th>\n",
       "      <td>3.40</td>\n",
       "      <td>1</td>\n",
       "      <td>$3.40</td>\n",
       "    </tr>\n",
       "    <tr>\n",
       "      <th>3</th>\n",
       "      <th>Phantomlight</th>\n",
       "      <td>1.79</td>\n",
       "      <td>1</td>\n",
       "      <td>$1.79</td>\n",
       "    </tr>\n",
       "    <tr>\n",
       "      <th>4</th>\n",
       "      <th>Bloodlord's Fetish</th>\n",
       "      <td>2.28</td>\n",
       "      <td>1</td>\n",
       "      <td>$2.28</td>\n",
       "    </tr>\n",
       "  </tbody>\n",
       "</table>\n",
       "</div>"
      ],
      "text/plain": [
       "                            Total Purchase Value  Total Purchase Count  \\\n",
       "Item ID Item Name                                                        \n",
       "0       Splinter                            1.82                     1   \n",
       "1       Crucifer                            9.12                     4   \n",
       "2       Verdict                             3.40                     1   \n",
       "3       Phantomlight                        1.79                     1   \n",
       "4       Bloodlord's Fetish                  2.28                     1   \n",
       "\n",
       "                           Purchase Price  \n",
       "Item ID Item Name                          \n",
       "0       Splinter                    $1.82  \n",
       "1       Crucifer                    $2.28  \n",
       "2       Verdict                     $3.40  \n",
       "3       Phantomlight                $1.79  \n",
       "4       Bloodlord's Fetish          $2.28  "
      ]
     },
     "execution_count": 53,
     "metadata": {},
     "output_type": "execute_result"
    }
   ],
   "source": [
    "#Use purchase price calculated before; add to most profitable item table\n",
    "item_total_purchase_df['Purchase Price'] = purchase_price\n",
    "item_total_purchase_df.head()"
   ]
  },
  {
   "cell_type": "code",
   "execution_count": 54,
   "metadata": {},
   "outputs": [
    {
     "data": {
      "text/html": [
       "<div>\n",
       "<style scoped>\n",
       "    .dataframe tbody tr th:only-of-type {\n",
       "        vertical-align: middle;\n",
       "    }\n",
       "\n",
       "    .dataframe tbody tr th {\n",
       "        vertical-align: top;\n",
       "    }\n",
       "\n",
       "    .dataframe thead th {\n",
       "        text-align: right;\n",
       "    }\n",
       "</style>\n",
       "<table border=\"1\" class=\"dataframe\">\n",
       "  <thead>\n",
       "    <tr style=\"text-align: right;\">\n",
       "      <th></th>\n",
       "      <th></th>\n",
       "      <th>Total Purchase Value</th>\n",
       "      <th>Total Purchase Count</th>\n",
       "      <th>Purchase Price</th>\n",
       "    </tr>\n",
       "    <tr>\n",
       "      <th>Item ID</th>\n",
       "      <th>Item Name</th>\n",
       "      <th></th>\n",
       "      <th></th>\n",
       "      <th></th>\n",
       "    </tr>\n",
       "  </thead>\n",
       "  <tbody>\n",
       "    <tr>\n",
       "      <th>34</th>\n",
       "      <th>Retribution Axe</th>\n",
       "      <td>37.26</td>\n",
       "      <td>9</td>\n",
       "      <td>$4.14</td>\n",
       "    </tr>\n",
       "    <tr>\n",
       "      <th>115</th>\n",
       "      <th>Spectral Diamond Doomblade</th>\n",
       "      <td>29.75</td>\n",
       "      <td>7</td>\n",
       "      <td>$4.25</td>\n",
       "    </tr>\n",
       "    <tr>\n",
       "      <th>32</th>\n",
       "      <th>Orenmir</th>\n",
       "      <td>29.70</td>\n",
       "      <td>6</td>\n",
       "      <td>$4.95</td>\n",
       "    </tr>\n",
       "    <tr>\n",
       "      <th>103</th>\n",
       "      <th>Singed Scalpel</th>\n",
       "      <td>29.22</td>\n",
       "      <td>6</td>\n",
       "      <td>$4.87</td>\n",
       "    </tr>\n",
       "    <tr>\n",
       "      <th>107</th>\n",
       "      <th>Splitter, Foe Of Subtlety</th>\n",
       "      <td>28.88</td>\n",
       "      <td>8</td>\n",
       "      <td>$3.61</td>\n",
       "    </tr>\n",
       "  </tbody>\n",
       "</table>\n",
       "</div>"
      ],
      "text/plain": [
       "                                    Total Purchase Value  \\\n",
       "Item ID Item Name                                          \n",
       "34      Retribution Axe                            37.26   \n",
       "115     Spectral Diamond Doomblade                 29.75   \n",
       "32      Orenmir                                    29.70   \n",
       "103     Singed Scalpel                             29.22   \n",
       "107     Splitter, Foe Of Subtlety                  28.88   \n",
       "\n",
       "                                    Total Purchase Count Purchase Price  \n",
       "Item ID Item Name                                                        \n",
       "34      Retribution Axe                                9          $4.14  \n",
       "115     Spectral Diamond Doomblade                     7          $4.25  \n",
       "32      Orenmir                                        6          $4.95  \n",
       "103     Singed Scalpel                                 6          $4.87  \n",
       "107     Splitter, Foe Of Subtlety                      8          $3.61  "
      ]
     },
     "execution_count": 54,
     "metadata": {},
     "output_type": "execute_result"
    }
   ],
   "source": [
    "#Sort most profitable item table by total purchase value\n",
    "item_total_purchase_df = item_total_purchase_df.sort_values('Total Purchase Value', ascending=False)\n",
    "item_total_purchase_df.head()"
   ]
  },
  {
   "cell_type": "code",
   "execution_count": 55,
   "metadata": {},
   "outputs": [
    {
     "data": {
      "text/html": [
       "<div>\n",
       "<style scoped>\n",
       "    .dataframe tbody tr th:only-of-type {\n",
       "        vertical-align: middle;\n",
       "    }\n",
       "\n",
       "    .dataframe tbody tr th {\n",
       "        vertical-align: top;\n",
       "    }\n",
       "\n",
       "    .dataframe thead th {\n",
       "        text-align: right;\n",
       "    }\n",
       "</style>\n",
       "<table border=\"1\" class=\"dataframe\">\n",
       "  <thead>\n",
       "    <tr style=\"text-align: right;\">\n",
       "      <th></th>\n",
       "      <th></th>\n",
       "      <th>Total Purchase Count</th>\n",
       "      <th>Purchase Price</th>\n",
       "      <th>Total Purchase Value</th>\n",
       "    </tr>\n",
       "    <tr>\n",
       "      <th>Item ID</th>\n",
       "      <th>Item Name</th>\n",
       "      <th></th>\n",
       "      <th></th>\n",
       "      <th></th>\n",
       "    </tr>\n",
       "  </thead>\n",
       "  <tbody>\n",
       "    <tr>\n",
       "      <th>34</th>\n",
       "      <th>Retribution Axe</th>\n",
       "      <td>9</td>\n",
       "      <td>$4.14</td>\n",
       "      <td>37.26</td>\n",
       "    </tr>\n",
       "    <tr>\n",
       "      <th>115</th>\n",
       "      <th>Spectral Diamond Doomblade</th>\n",
       "      <td>7</td>\n",
       "      <td>$4.25</td>\n",
       "      <td>29.75</td>\n",
       "    </tr>\n",
       "    <tr>\n",
       "      <th>32</th>\n",
       "      <th>Orenmir</th>\n",
       "      <td>6</td>\n",
       "      <td>$4.95</td>\n",
       "      <td>29.70</td>\n",
       "    </tr>\n",
       "    <tr>\n",
       "      <th>103</th>\n",
       "      <th>Singed Scalpel</th>\n",
       "      <td>6</td>\n",
       "      <td>$4.87</td>\n",
       "      <td>29.22</td>\n",
       "    </tr>\n",
       "    <tr>\n",
       "      <th>107</th>\n",
       "      <th>Splitter, Foe Of Subtlety</th>\n",
       "      <td>8</td>\n",
       "      <td>$3.61</td>\n",
       "      <td>28.88</td>\n",
       "    </tr>\n",
       "  </tbody>\n",
       "</table>\n",
       "</div>"
      ],
      "text/plain": [
       "                                    Total Purchase Count Purchase Price  \\\n",
       "Item ID Item Name                                                         \n",
       "34      Retribution Axe                                9          $4.14   \n",
       "115     Spectral Diamond Doomblade                     7          $4.25   \n",
       "32      Orenmir                                        6          $4.95   \n",
       "103     Singed Scalpel                                 6          $4.87   \n",
       "107     Splitter, Foe Of Subtlety                      8          $3.61   \n",
       "\n",
       "                                    Total Purchase Value  \n",
       "Item ID Item Name                                         \n",
       "34      Retribution Axe                            37.26  \n",
       "115     Spectral Diamond Doomblade                 29.75  \n",
       "32      Orenmir                                    29.70  \n",
       "103     Singed Scalpel                             29.22  \n",
       "107     Splitter, Foe Of Subtlety                  28.88  "
      ]
     },
     "execution_count": 55,
     "metadata": {},
     "output_type": "execute_result"
    }
   ],
   "source": [
    "#Reorder columns for final most profitable item table\n",
    "cols = ['Total Purchase Count','Purchase Price', 'Total Purchase Value']\n",
    "item_total_purchase_df = item_total_purchase_df[cols]\n",
    "item_total_purchase_df.head()"
   ]
  }
 ],
 "metadata": {
  "kernelspec": {
   "display_name": "Python 3",
   "language": "python",
   "name": "python3"
  },
  "language_info": {
   "codemirror_mode": {
    "name": "ipython",
    "version": 3
   },
   "file_extension": ".py",
   "mimetype": "text/x-python",
   "name": "python",
   "nbconvert_exporter": "python",
   "pygments_lexer": "ipython3",
   "version": "3.6.4"
  }
 },
 "nbformat": 4,
 "nbformat_minor": 2
}
