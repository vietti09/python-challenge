{
 "cells": [
  {
   "cell_type": "code",
   "execution_count": 1,
   "metadata": {},
   "outputs": [],
   "source": [
    "# Three observations based on data plot.\n",
    "# 1. New York Times seems to have the worst compound sentiment out of all tweet sources every time I run the script.\n",
    "# 2. Just the same, foxnews appears to have the best compound sentiment out of all tweet sources every time I run the script.\n",
    "# 3. The average compound score differs greatly from the compound score of each tweet, as indicated by the great number of black\n",
    "# dots corresponding to New York Times tweets that are centered at the zero line on the \"per tweet\" chart."
   ]
  },
  {
   "cell_type": "code",
   "execution_count": 2,
   "metadata": {},
   "outputs": [],
   "source": [
    " # Dependencies\n",
    "import tweepy\n",
    "import pandas as pd\n",
    "import json\n",
    "import numpy as np\n",
    "import matplotlib.pyplot as plt\n",
    "import seaborn as srn\n",
    "from config import consumer_key, consumer_secret, access_token, access_secret"
   ]
  },
  {
   "cell_type": "code",
   "execution_count": 3,
   "metadata": {},
   "outputs": [],
   "source": [
    " # Import and Initialize Sentiment Analyzer\n",
    "from vaderSentiment.vaderSentiment import SentimentIntensityAnalyzer\n",
    "analyzer = SentimentIntensityAnalyzer()"
   ]
  },
  {
   "cell_type": "code",
   "execution_count": 4,
   "metadata": {},
   "outputs": [],
   "source": [
    " # Twitter API Keys\n",
    "consumer_key = consumer_key\n",
    "consumer_secret = consumer_secret\n",
    "access_token = access_token\n",
    "access_token_secret = access_secret"
   ]
  },
  {
   "cell_type": "code",
   "execution_count": 5,
   "metadata": {},
   "outputs": [],
   "source": [
    " # Setup Tweepy API Authentication\n",
    "auth = tweepy.OAuthHandler(consumer_key, consumer_secret)\n",
    "auth.set_access_token(access_token, access_token_secret)\n",
    "api = tweepy.API(auth, parser=tweepy.parsers.JSONParser())"
   ]
  },
  {
   "cell_type": "code",
   "execution_count": 6,
   "metadata": {},
   "outputs": [],
   "source": [
    " # Target Search Term\n",
    "target_term = [\"@CNNbrk\",\"@BBCBreaking\", \"@CBSNews\",\"@foxnews\",\"@nytimes\"]"
   ]
  },
  {
   "cell_type": "code",
   "execution_count": 7,
   "metadata": {},
   "outputs": [],
   "source": [
    " # Lists to hold sentiments\n",
    "compound_list = []\n",
    "positive_list = []\n",
    "negative_list = []\n",
    "neutral_list = []\n",
    "counter=[]\n",
    "tweet_source = []\n",
    "text_list = []\n",
    "created_list = []"
   ]
  },
  {
   "cell_type": "code",
   "execution_count": 8,
   "metadata": {},
   "outputs": [],
   "source": [
    "# Grab 100 tweets\n",
    "for x in range(0,len(target_term)):\n",
    "    public_tweets = api.search(target_term[x], count=100, result_type=\"recent\")\n",
    "    y=1\n",
    "\n",
    "# Loop through all tweets\n",
    "    for tweet in public_tweets[\"statuses\"]:\n",
    "\n",
    "        # Run Vader Analysis on each tweet\n",
    "        compound = analyzer.polarity_scores(tweet[\"text\"])[\"compound\"]\n",
    "        pos = analyzer.polarity_scores(tweet[\"text\"])[\"pos\"]\n",
    "        neu = analyzer.polarity_scores(tweet[\"text\"])[\"neu\"]\n",
    "        neg = analyzer.polarity_scores(tweet[\"text\"])[\"neg\"]\n",
    "        text = tweet['text']\n",
    "        created = tweet['created_at']\n",
    "        \n",
    "    # Add each value to the appropriate array\n",
    "        compound_list.append(compound)\n",
    "        positive_list.append(pos)\n",
    "        negative_list.append(neg)\n",
    "        neutral_list.append(neu)\n",
    "        tweet_source.append(target_term[x])\n",
    "        text_list.append(text)\n",
    "        created_list.append(created)\n",
    "        counter.append(y)\n",
    "        y= y + 1"
   ]
  },
  {
   "cell_type": "code",
   "execution_count": 9,
   "metadata": {},
   "outputs": [
    {
     "data": {
      "text/html": [
       "<div>\n",
       "<style scoped>\n",
       "    .dataframe tbody tr th:only-of-type {\n",
       "        vertical-align: middle;\n",
       "    }\n",
       "\n",
       "    .dataframe tbody tr th {\n",
       "        vertical-align: top;\n",
       "    }\n",
       "\n",
       "    .dataframe thead th {\n",
       "        text-align: right;\n",
       "    }\n",
       "</style>\n",
       "<table border=\"1\" class=\"dataframe\">\n",
       "  <thead>\n",
       "    <tr style=\"text-align: right;\">\n",
       "      <th></th>\n",
       "      <th>tweet source</th>\n",
       "      <th>counter</th>\n",
       "      <th>compound</th>\n",
       "      <th>negative</th>\n",
       "      <th>neutral</th>\n",
       "      <th>positive</th>\n",
       "      <th>text</th>\n",
       "      <th>created_at</th>\n",
       "    </tr>\n",
       "  </thead>\n",
       "  <tbody>\n",
       "    <tr>\n",
       "      <th>0</th>\n",
       "      <td>@CNNbrk</td>\n",
       "      <td>1</td>\n",
       "      <td>0.0</td>\n",
       "      <td>0.0</td>\n",
       "      <td>1.0</td>\n",
       "      <td>0.0</td>\n",
       "      <td>https://t.co/Jl1GWHC0ct @eBay @youtube @Facebo...</td>\n",
       "      <td>Thu Apr 26 23:25:05 +0000 2018</td>\n",
       "    </tr>\n",
       "  </tbody>\n",
       "</table>\n",
       "</div>"
      ],
      "text/plain": [
       "  tweet source  counter  compound  negative  neutral  positive  \\\n",
       "0      @CNNbrk        1       0.0       0.0      1.0       0.0   \n",
       "\n",
       "                                                text  \\\n",
       "0  https://t.co/Jl1GWHC0ct @eBay @youtube @Facebo...   \n",
       "\n",
       "                       created_at  \n",
       "0  Thu Apr 26 23:25:05 +0000 2018  "
      ]
     },
     "execution_count": 9,
     "metadata": {},
     "output_type": "execute_result"
    }
   ],
   "source": [
    "#create dataframe from above lists\n",
    "news_dataframe = pd.DataFrame({\"compound\":compound_list,\"positive\":positive_list,\"negative\":negative_list,\"neutral\":neutral_list,\"counter\":counter, \"tweet source\":tweet_source, 'text':text_list, \"created_at\":created_list})\n",
    "\n",
    "cols = ['tweet source','counter','compound','negative','neutral','positive','text','created_at']\n",
    "news_dataframe = news_dataframe[cols]\n",
    "news_dataframe.to_csv('news_dataframe', sep='\\t')\n",
    "news_dataframe.head(1)"
   ]
  },
  {
   "cell_type": "code",
   "execution_count": 10,
   "metadata": {},
   "outputs": [
    {
     "data": {
      "text/html": [
       "<div>\n",
       "<style scoped>\n",
       "    .dataframe tbody tr th:only-of-type {\n",
       "        vertical-align: middle;\n",
       "    }\n",
       "\n",
       "    .dataframe tbody tr th {\n",
       "        vertical-align: top;\n",
       "    }\n",
       "\n",
       "    .dataframe thead th {\n",
       "        text-align: right;\n",
       "    }\n",
       "</style>\n",
       "<table border=\"1\" class=\"dataframe\">\n",
       "  <thead>\n",
       "    <tr style=\"text-align: right;\">\n",
       "      <th></th>\n",
       "      <th>compound</th>\n",
       "    </tr>\n",
       "    <tr>\n",
       "      <th>tweet source</th>\n",
       "      <th></th>\n",
       "    </tr>\n",
       "  </thead>\n",
       "  <tbody>\n",
       "    <tr>\n",
       "      <th>@BBCBreaking</th>\n",
       "      <td>-0.065002</td>\n",
       "    </tr>\n",
       "    <tr>\n",
       "      <th>@CBSNews</th>\n",
       "      <td>-0.111275</td>\n",
       "    </tr>\n",
       "    <tr>\n",
       "      <th>@CNNbrk</th>\n",
       "      <td>-0.075938</td>\n",
       "    </tr>\n",
       "    <tr>\n",
       "      <th>@foxnews</th>\n",
       "      <td>-0.040160</td>\n",
       "    </tr>\n",
       "    <tr>\n",
       "      <th>@nytimes</th>\n",
       "      <td>-0.175510</td>\n",
       "    </tr>\n",
       "  </tbody>\n",
       "</table>\n",
       "</div>"
      ],
      "text/plain": [
       "              compound\n",
       "tweet source          \n",
       "@BBCBreaking -0.065002\n",
       "@CBSNews     -0.111275\n",
       "@CNNbrk      -0.075938\n",
       "@foxnews     -0.040160\n",
       "@nytimes     -0.175510"
      ]
     },
     "execution_count": 10,
     "metadata": {},
     "output_type": "execute_result"
    }
   ],
   "source": [
    "# Store the Average Sentiment by tweet source\n",
    "sentiment = news_dataframe.groupby(['tweet source'])\n",
    "sentiment = sentiment.mean()['compound']\n",
    "sentiment = pd.DataFrame(sentiment)\n",
    "sentiment"
   ]
  },
  {
   "cell_type": "code",
   "execution_count": 11,
   "metadata": {},
   "outputs": [],
   "source": [
    "#establish variables for scatter plot for each tweet source. x is counts, y is compound sentiments\n",
    "cnn = news_dataframe.loc[news_dataframe['tweet source'] == '@CNNbrk']\n",
    "x_cnn = cnn['counter']\n",
    "y_cnn = cnn['compound']\n",
    "\n",
    "bbc = news_dataframe.loc[news_dataframe['tweet source'] == '@BBCBreaking']\n",
    "x_bbc = bbc['counter']\n",
    "y_bbc = bbc['compound']\n",
    "\n",
    "cbs = news_dataframe.loc[news_dataframe['tweet source'] == '@CBSNews']\n",
    "x_cbs = cbs['counter']\n",
    "y_cbs = cbs['compound']\n",
    "\n",
    "fox = news_dataframe.loc[news_dataframe['tweet source'] == '@foxnews']\n",
    "x_fox = fox['counter']\n",
    "y_fox = fox['compound']\n",
    "\n",
    "nyt = news_dataframe.loc[news_dataframe['tweet source'] == '@nytimes']\n",
    "x_nyt = nyt['counter']\n",
    "y_nyt = nyt['compound']"
   ]
  },
  {
   "cell_type": "code",
   "execution_count": 12,
   "metadata": {},
   "outputs": [
    {
     "data": {
      "image/png": "[encoded data removed]",
      "text/plain": [
       "<matplotlib.figure.Figure at 0x17935306828>"
      ]
     },
     "metadata": {},
     "output_type": "display_data"
    }
   ],
   "source": [
    "#create scatter plots, save as png\n",
    "fig, ax = plt.subplots()\n",
    "\n",
    "ax.scatter(x_cnn, y_cnn, color = 'b')\n",
    "ax.plot([],[],'o',color = 'b')\n",
    "\n",
    "ax.scatter(x_bbc, y_bbc, color = 'r')\n",
    "ax.plot([],[],'o',color = 'r')\n",
    "\n",
    "ax.scatter(x_cbs, y_cbs, color = 'yellow')\n",
    "ax.plot([],[],'o',color = 'yellow')\n",
    "\n",
    "ax.scatter(x_fox, y_fox, color = 'lightskyblue')\n",
    "ax.plot([],[],'o',color = 'lightskyblue')\n",
    "\n",
    "ax.scatter(x_nyt, y_nyt, color = 'black')\n",
    "ax.plot([],[],'o',color = 'black')\n",
    "\n",
    "\n",
    "plt.xlabel('Tweets Ago')\n",
    "plt.ylabel('Tweet Polarity')\n",
    "plt.title('Sentiment Analysis of Media Tweets 04/29/2018')\n",
    "\n",
    "ax.legend(['@CNNbrk','@BBCBreaking','@CBSNews','@foxnews','@nytimes'],markerscale=0.7, scatterpoints=1, fontsize=10,bbox_to_anchor=(1.05, 0.7),title='Twitter Handle')\n",
    "\n",
    "plt.gca().invert_xaxis()\n",
    "srn.set(style='darkgrid')\n",
    "plt.savefig('sentiment_analysis.png', bbox_inches='tight')\n",
    "plt.show()"
   ]
  },
  {
   "cell_type": "code",
   "execution_count": 13,
   "metadata": {},
   "outputs": [
    {
     "data": {
      "image/png": "[encoded data removed]",
      "text/plain": [
       "<matplotlib.figure.Figure at 0x179352f73c8>"
      ]
     },
     "metadata": {},
     "output_type": "display_data"
    }
   ],
   "source": [
    "#display bar chart showing average compound sentiment by tweet source, save to png\n",
    "plt.title(\"Overall Media Sentiment Based on Twitter 04/28/2018\")\n",
    "plt.xlabel(\"Twitter Handle\")\n",
    "plt.ylabel(\"Tweet Polarity\")\n",
    "\n",
    "plt.bar(target_term,sentiment['compound'], color=['b','r','yellow','lightskyblue','black'])\n",
    "plt.savefig('overall_sentiment.png', bbox_inches = 'tight')\n",
    "plt.show()"
   ]
  },
  {
   "cell_type": "code",
   "execution_count": null,
   "metadata": {},
   "outputs": [],
   "source": []
  }
 ],
 "metadata": {
  "kernelspec": {
   "display_name": "Python [conda env:PythonData]",
   "language": "python",
   "name": "conda-env-PythonData-py"
  },
  "language_info": {
   "codemirror_mode": {
    "name": "ipython",
    "version": 3
   },
   "file_extension": ".py",
   "mimetype": "text/x-python",
   "name": "python",
   "nbconvert_exporter": "python",
   "pygments_lexer": "ipython3",
   "version": "3.6.4"
  }
 },
 "nbformat": 4,
 "nbformat_minor": 2
}
