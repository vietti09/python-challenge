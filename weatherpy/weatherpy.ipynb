{
 "cells": [
  {
   "cell_type": "code",
   "execution_count": 1,
   "metadata": {},
   "outputs": [],
   "source": [
    "import random\n",
    "import pandas as pd\n",
    "import json\n",
    "import requests\n",
    "import matplotlib.pyplot as plt\n",
    "import numpy as np\n",
    "import citipy\n",
    "import seaborn as sns"
   ]
  },
  {
   "cell_type": "code",
   "execution_count": null,
   "metadata": {},
   "outputs": [],
   "source": [
    "city_lat =[]\n",
    "city_long = []\n",
    "city_name = []\n",
    "country_code = []"
   ]
  },
  {
   "cell_type": "code",
   "execution_count": null,
   "metadata": {},
   "outputs": [],
   "source": [
    "for x in range (0,1000):\n",
    "    city_lat.append(random.uniform(-90, 90))\n",
    "    city_long.append(random.uniform(-180,181))\n",
    "    city = citipy.nearest_city(city_lat[x],city_long[x])\n",
    "    city_name.append(city.city_name)\n",
    "    country_code.append(city.country_code)"
   ]
  },
  {
   "cell_type": "code",
   "execution_count": null,
   "metadata": {},
   "outputs": [],
   "source": [
    "bulk_url = 'http://api.openweathermap.org/data/2.5/weather?units=imperial&q='"
   ]
  },
  {
   "cell_type": "code",
   "execution_count": null,
   "metadata": {},
   "outputs": [],
   "source": [
    "full_url = [None]*500\n",
    "for x in range(0,500):\n",
    "    full_url[x] = bulk_url+str(city_name[x])+'&APPID=bb49e8d2dcb7b133cc968c136c2aebeb'\n",
    "full_url[0]"
   ]
  },
  {
   "cell_type": "code",
   "execution_count": null,
   "metadata": {},
   "outputs": [],
   "source": [
    "weather_data=[]\n",
    "for x in range(0,500):\n",
    "    weatherdata = full_url[x]\n",
    "    weather_data.append(requests.get(weatherdata).json())\n",
    "    print(x, city_name[x],full_url[x])\n",
    "\n",
    "import winsound\n",
    "duration = 1000  # millisecond\n",
    "freq = 440  # Hz\n",
    "winsound.Beep(freq, duration)"
   ]
  },
  {
   "cell_type": "code",
   "execution_count": null,
   "metadata": {},
   "outputs": [],
   "source": [
    "weather_data"
   ]
  },
  {
   "cell_type": "code",
   "execution_count": null,
   "metadata": {},
   "outputs": [],
   "source": [
    "cities_list = []\n",
    "cities_list = pd.DataFrame(cities_list)\n",
    "cities_list['clouds'] = [None] * 1000\n",
    "cities_list['temp'] = [None] * 1000\n",
    "cities_list['humidity'] = [None] * 1000\n",
    "cities_list['wind'] = [None] * 1000\n",
    "\n",
    "for x in range(0,1000):\n",
    "    try:\n",
    "        cities_list['clouds'][x] = weather_data[x]['clouds']['all']\n",
    "        cities_list['temp'][x] = weather_data[x]['main']['temp_max']\n",
    "        cities_list['humidity'][x] = weather_data[x]['main']['humidity']\n",
    "        cities_list['wind'][x] = weather_data[x]['wind']['speed']\n",
    "    except:\n",
    "        pass"
   ]
  },
  {
   "cell_type": "code",
   "execution_count": null,
   "metadata": {},
   "outputs": [],
   "source": [
    "cities_list.head()"
   ]
  },
  {
   "cell_type": "code",
   "execution_count": null,
   "metadata": {},
   "outputs": [],
   "source": [
    "city_lat_df = pd.DataFrame(city_lat)\n",
    "#cities_list = pd.DataFrame.merge(cities_list, city_lat_df, how='outer')\n",
    "cities_list = cities_list.join(city_lat_df, lsuffix='', rsuffix='b')"
   ]
  },
  {
   "cell_type": "code",
   "execution_count": null,
   "metadata": {},
   "outputs": [],
   "source": [
    "len(cities_list['temp'])"
   ]
  },
  {
   "cell_type": "code",
   "execution_count": null,
   "metadata": {},
   "outputs": [],
   "source": [
    "#print scatter plot of temperature vs. latitude for all cities\n",
    "plt.scatter(cities_list['0b'], cities_list['temp'], marker='v', label=\"Temperature\")\n",
    "\n",
    "plt.xlabel('Latitude')\n",
    "plt.ylabel('Temperature (F)')\n",
    "plt.title('Temperature (F) vs. Latitude')\n",
    "sns.set()\n",
    "plt.show()"
   ]
  },
  {
   "cell_type": "code",
   "execution_count": null,
   "metadata": {},
   "outputs": [],
   "source": [
    "#print scatter plot of humidity vs. latitude for all cities\n",
    "plt.scatter(cities_list['0b'], cities_list['humidity'], marker='o', label=\"Humidity\")\n",
    "\n",
    "plt.xlabel('Latitude')\n",
    "plt.ylabel('Humidity')\n",
    "plt.title('Humidity vs. Latitude')\n",
    "plt.show()"
   ]
  },
  {
   "cell_type": "code",
   "execution_count": null,
   "metadata": {},
   "outputs": [],
   "source": [
    "#print scatter plot of cloudiness vs. latitude for all cities\n",
    "\n",
    "plt.scatter(cities_list['0b'], cities_list['clouds'], marker='^', label=\"Cloudiness\")\n",
    "\n",
    "plt.xlabel('Latitude')\n",
    "plt.ylabel('Cloudinesss')\n",
    "plt.title('Cloudiness vs. Latitude')\n",
    "plt.show()"
   ]
  },
  {
   "cell_type": "code",
   "execution_count": null,
   "metadata": {},
   "outputs": [],
   "source": [
    "#print scatter plot of wind speed vs. latitude for all cities\n",
    "\n",
    "plt.scatter(cities_list['0b'], cities_list['wind'], marker='8', label=\"Wind Speed\")\n",
    "\n",
    "plt.xlabel('Latitude')\n",
    "plt.ylabel('Wind Speed')\n",
    "plt.title('Wind Speed vs. Latitude')\n",
    "plt.show()"
   ]
  },
  {
   "cell_type": "code",
   "execution_count": null,
   "metadata": {},
   "outputs": [],
   "source": []
  }
 ],
 "metadata": {
  "kernelspec": {
   "display_name": "Python 3",
   "language": "python",
   "name": "python3"
  },
  "language_info": {
   "codemirror_mode": {
    "name": "ipython",
    "version": 3
   },
   "file_extension": ".py",
   "mimetype": "text/x-python",
   "name": "python",
   "nbconvert_exporter": "python",
   "pygments_lexer": "ipython3",
   "version": "3.6.4"
  }
 },
 "nbformat": 4,
 "nbformat_minor": 2
}
